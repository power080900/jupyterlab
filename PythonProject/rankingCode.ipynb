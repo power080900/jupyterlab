{
 "cells": [
  {
   "cell_type": "code",
   "execution_count": null,
   "id": "2bd94026-1613-4992-89ae-23618e0308f7",
   "metadata": {},
   "outputs": [],
   "source": [
    "import requests\n",
    "from bs4 import BeautifulSoup\n",
    "from selenium import webdriver\n",
    "from selenium.webdriver.common.keys import Keys\n",
    "import time\n",
    "\n",
    "fifaUrl = 'https://www.fifa.com/fifa-world-ranking/men'\n",
    "driver = webdriver.Chrome('C:/Temp/chromedriver')\n",
    "driver.implicitly_wait(3)"
   ]
  },
  {
   "cell_type": "code",
   "execution_count": null,
   "id": "ff678be9-903d-4f65-8572-fae358baeb36",
   "metadata": {},
   "outputs": [],
   "source": [
    "driver.get(fifaUrl)"
   ]
  },
  {
   "cell_type": "code",
   "execution_count": null,
   "id": "8f7eeecd-fb03-431d-bf04-98d6f40280a0",
   "metadata": {},
   "outputs": [
    {
     "name": "stdout",
     "output_type": "stream",
     "text": [
      "1\n",
      "2\n",
      "3\n",
      "4\n",
      "5\n",
      "6\n",
      "7\n",
      "8\n",
      "9\n",
      "10\n",
      "11\n",
      "12\n",
      "13\n",
      "14\n",
      "15\n",
      "16\n",
      "17\n",
      "18\n",
      "19\n",
      "20\n",
      "21\n",
      "22\n",
      "23\n",
      "24\n",
      "25\n",
      "26\n",
      "27\n",
      "28\n",
      "29\n",
      "30\n",
      "31\n",
      "32\n",
      "33\n",
      "34\n",
      "35\n",
      "36\n",
      "37\n",
      "38\n",
      "38 번째 2 페이지 오류\n",
      "38 번째 3 페이지 오류\n",
      "39\n",
      "39 번째 1 페이지 오류\n",
      "39 번째 2 페이지 오류\n",
      "39 번째 3 페이지 오류\n",
      "39 번째 5 페이지 오류\n",
      "40\n",
      "40 번째 1 페이지 오류\n",
      "40 번째 2 페이지 오류\n",
      "40 번째 3 페이지 오류\n",
      "40 번째 4 페이지 오류\n"
     ]
    }
   ],
   "source": [
    "country = []\n",
    "year = []\n",
    "rank = []\n",
    "maxurl = ('.ff-dropdown_dropupContentButton__3WmBL')\n",
    "maxPage = driver.find_elements_by_css_selector(maxurl)\n",
    "i = 1\n",
    "while i <= (len(maxPage)):\n",
    "    print(i)\n",
    "    driver.get(fifaUrl)\n",
    "    nextdown = driver.find_element_by_css_selector('#content > main > section:nth-child(2) > div > div > div.row > div.col-lg-3.d-flex.justify-content-lg-end.align-items-center > div > button') \n",
    "    nextdown.click()\n",
    "    time.sleep(5)\n",
    "    nexturl = ('#content > main > section:nth-child(2) > div > div > div.row > div > div > div > button:nth-child('+str(i)+')')\n",
    "    nextPage = driver.find_element_by_css_selector(nexturl) \n",
    "    nextPage.click()\n",
    "    time.sleep(5)\n",
    "    for j in range(1,6):\n",
    "        try:\n",
    "            nextpage2 = driver.find_element_by_css_selector('#content > main > section > div > div > div > div > div > div > div > div.ff-mb-0.p > div:nth-child('+str(j)+')')\n",
    "            nextpage2.click()\n",
    "            time.sleep(5)\n",
    "            ranking = driver.find_elements_by_css_selector('#content > main > section > div > div > div > table > tbody > tr > td > h6')\n",
    "            for rk in ranking:\n",
    "                rank.append(rk.text)\n",
    "            name = driver.find_elements_by_css_selector('#content > main > section > div > div > div > table > tbody > tr > td > span.d-none.d-lg-block')\n",
    "            for nm in name:\n",
    "                country.append(nm.text)\n",
    "            years = driver.find_element_by_css_selector('#content > main > section:nth-child(2) > div > div > div.row > div.col-lg-3.d-flex.justify-content-lg-end.align-items-center > div > button > div > div.d-flex.flex-row > p.ff-mb-0.ff-ml-8.ff-text-blue-cinema.link-small.ff-dropdown_rtlTextPadding__30brU')\n",
    "            for k in range(len(name)):\n",
    "                year.append(years.text)\n",
    "        except:\n",
    "            print(i,\"번째\",j,\"페이지 오류\")\n",
    "            pass\n",
    "    i += 1"
   ]
  },
  {
   "cell_type": "code",
   "execution_count": 44,
   "id": "4fe2329c-61a6-41c8-9976-2a4e3f82d3c4",
   "metadata": {},
   "outputs": [],
   "source": [
    "with open('data/fifa_rank.csv','wt',encoding='utf-8') as f:\n",
    "    f.write('country,rank,year\\n')\n",
    "    for i in range(len(rank)):\n",
    "        f.write(country[i]+\",\"+rank[i]+\",\"+year[i]+'\\n')  "
   ]
  }
 ],
 "metadata": {
  "kernelspec": {
   "display_name": "Python 3 (ipykernel)",
   "language": "python",
   "name": "python3"
  },
  "language_info": {
   "codemirror_mode": {
    "name": "ipython",
    "version": 3
   },
   "file_extension": ".py",
   "mimetype": "text/x-python",
   "name": "python",
   "nbconvert_exporter": "python",
   "pygments_lexer": "ipython3",
   "version": "3.9.7"
  }
 },
 "nbformat": 4,
 "nbformat_minor": 5
}
