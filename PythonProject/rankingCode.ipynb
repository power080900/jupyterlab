{
 "cells": [
  {
   "cell_type": "code",
   "execution_count": null,
   "id": "2bd94026-1613-4992-89ae-23618e0308f7",
   "metadata": {},
   "outputs": [],
   "source": [
    "import requests\n",
    "from bs4 import BeautifulSoup\n",
    "from selenium import webdriver\n",
    "from selenium.webdriver.common.keys import Keys\n",
    "import time\n",
    "\n",
    "fifaUrl = 'https://www.fifa.com/fifa-world-ranking/men'\n",
    "driver = webdriver.Chrome('C:/Temp/chromedriver')\n",
    "driver.implicitly_wait(3)"
   ]
  },
  {
   "cell_type": "code",
   "execution_count": null,
   "id": "ff678be9-903d-4f65-8572-fae358baeb36",
   "metadata": {},
   "outputs": [],
   "source": [
    "driver.get(fifaUrl)"
   ]
  },
  {
   "cell_type": "code",
   "execution_count": null,
   "id": "8f7eeecd-fb03-431d-bf04-98d6f40280a0",
   "metadata": {},
   "outputs": [
    {
     "name": "stdout",
     "output_type": "stream",
     "text": [
      "1\n",
      "2\n",
      "3\n",
      "4\n",
      "5\n",
      "6\n",
      "7\n",
      "8\n",
      "9\n",
      "10\n",
      "11\n",
      "12\n",
      "13\n",
      "14\n",
      "15\n",
      "16\n",
      "17\n",
      "18\n",
      "19\n",
      "20\n",
      "21\n",
      "22\n",
      "23\n",
      "24\n",
      "25\n",
      "26\n",
      "27\n",
      "28\n",
      "29\n",
      "30\n",
      "31\n",
      "32\n",
      "33\n",
      "34\n",
      "35\n",
      "36\n",
      "37\n",
      "38\n",
      "38 번째 2 페이지 오류\n",
      "38 번째 3 페이지 오류\n",
      "39\n",
      "39 번째 1 페이지 오류\n",
      "39 번째 2 페이지 오류\n",
      "39 번째 3 페이지 오류\n",
      "39 번째 5 페이지 오류\n",
      "40\n",
      "40 번째 1 페이지 오류\n",
      "40 번째 2 페이지 오류\n",
      "40 번째 3 페이지 오류\n",
      "40 번째 4 페이지 오류\n"
     ]
    }
   ],
   "source": [
    "name = []\n",
    "time = []\n",
    "rank = []\n",
    "maxurl = ('.ff-dropdown_dropupContentButton__3WmBL')\n",
    "maxPage = driver.find_elements_by_css_selector(maxurl)\n",
    "i = 1\n",
    "while i <= (len(maxPage)):\n",
    "    print(i)\n",
    "    driver.get(fifaUrl)\n",
    "    nextdown = driver.find_element_by_css_selector('#content > main > section:nth-child(2) > div > div > div.row > div.col-lg-3.d-flex.justify-content-lg-end.align-items-center > div > button') \n",
    "    nextdown.click()\n",
    "    time.sleep(5)\n",
    "    nexturl = ('#content > main > section:nth-child(2) > div > div > div.row > div > div > div > button:nth-child('+str(i)+')')\n",
    "    nextPage = driver.find_element_by_css_selector(nexturl) \n",
    "    nextPage.click()\n",
    "    time.sleep(5)\n",
    "    for j in range(1,6):\n",
    "        try:\n",
    "            nextpage2 = driver.find_element_by_css_selector('#content > main > section > div > div > div > div > div > div > div > div.ff-mb-0.p > div:nth-child('+str(j)+')')\n",
    "            nextpage2.click()\n",
    "            time.sleep(5)\n",
    "            ranking = driver.find_elements_by_css_selector('#content > main > section > div > div > div > table > tbody > tr > td > h6')\n",
    "            for rk in ranking:\n",
    "                rank.append(rk.text)\n",
    "            names = driver.find_elements_by_css_selector('#content > main > section > div > div > div > table > tbody > tr > td > span.d-none.d-lg-block')\n",
    "            for nm in names:\n",
    "                name.append(nm.text)\n",
    "            times = driver.find_element_by_css_selector('#content > main > section:nth-child(2) > div > div > div.row > div.col-lg-3.d-flex.justify-content-lg-end.align-items-center > div > button > div > div.d-flex.flex-row > p.ff-mb-0.ff-ml-8.ff-text-blue-cinema.link-small.ff-dropdown_rtlTextPadding__30brU')\n",
    "            for k in range(len(name)):\n",
    "                time.append(times.text)\n",
    "        except:\n",
    "            print(i,\"번째\",j,\"페이지 오류\")\n",
    "            pass\n",
    "    i += 1"
   ]
  },
  {
   "cell_type": "code",
   "execution_count": 44,
   "id": "4fe2329c-61a6-41c8-9976-2a4e3f82d3c4",
   "metadata": {},
   "outputs": [],
   "source": [
    "with open('data/fifa_rank.csv','wt',encoding='utf-8') as f:\n",
    "    f.write('name,rank,time\\n')\n",
    "    for i in range(len(rank)):\n",
    "        f.write(name[i]+\",\"+rank[i]+\",\"+time[i]+'\\n')  "
   ]
  },
  {
   "cell_type": "code",
   "execution_count": 1,
   "id": "81f17ccf-caf3-4d66-ae61-2565a3d71f09",
   "metadata": {},
   "outputs": [
    {
     "name": "stdout",
     "output_type": "stream",
     "text": [
      "     country  rank       time\n",
      "0     Brazil     1  31-Mar-22\n",
      "1    Belgium     2  31-Mar-22\n",
      "2     France     3  31-Mar-22\n",
      "3  Argentina     4  31-Mar-22\n",
      "4    England     5  31-Mar-22\n"
     ]
    }
   ],
   "source": [
    "import pandas as pd\n",
    "df = pd.read_csv('data/fifa_rank.csv',encoding='utf-8')\n",
    "\n",
    "print(df.head())"
   ]
  },
  {
   "cell_type": "code",
   "execution_count": 2,
   "id": "cd4a8b87-57a7-44da-bec4-0c86df65a743",
   "metadata": {},
   "outputs": [
    {
     "name": "stdout",
     "output_type": "stream",
     "text": [
      "<class 'pandas.core.frame.DataFrame'>\n",
      "RangeIndex: 63283 entries, 0 to 63282\n",
      "Data columns (total 3 columns):\n",
      " #   Column   Non-Null Count  Dtype         \n",
      "---  ------   --------------  -----         \n",
      " 0   country  63283 non-null  object        \n",
      " 1   rank     63283 non-null  int64         \n",
      " 2   time     63283 non-null  datetime64[ns]\n",
      "dtypes: datetime64[ns](1), int64(1), object(1)\n",
      "memory usage: 1.4+ MB\n",
      "None\n"
     ]
    }
   ],
   "source": [
    "from datetime import datetime\n",
    "import numpy as np\n",
    "\n",
    "df['time'] = pd.to_datetime(df['time'])\n",
    "print(df.info())"
   ]
  },
  {
   "cell_type": "code",
   "execution_count": 3,
   "id": "56192ef5-2eea-4e61-8362-8af43fbc423d",
   "metadata": {},
   "outputs": [
    {
     "name": "stdout",
     "output_type": "stream",
     "text": [
      "     country  rank       time  Year\n",
      "0     Brazil     1 2022-03-31  2022\n",
      "1    Belgium     2 2022-03-31  2022\n",
      "2     France     3 2022-03-31  2022\n",
      "3  Argentina     4 2022-03-31  2022\n",
      "4    England     5 2022-03-31  2022\n"
     ]
    }
   ],
   "source": [
    "df['Year'] = df['time'].dt.year\n",
    "\n",
    "print(df.head())"
   ]
  },
  {
   "cell_type": "code",
   "execution_count": 33,
   "id": "7b6cea6c-7470-4c9d-b226-9aaeb06dde20",
   "metadata": {},
   "outputs": [
    {
     "name": "stdout",
     "output_type": "stream",
     "text": [
      "<class 'pandas.core.frame.DataFrame'>\n",
      "RangeIndex: 63283 entries, 0 to 63282\n",
      "Data columns (total 4 columns):\n",
      " #   Column   Non-Null Count  Dtype         \n",
      "---  ------   --------------  -----         \n",
      " 0   country  63283 non-null  object        \n",
      " 1   rank     63283 non-null  int64         \n",
      " 2   time     63283 non-null  datetime64[ns]\n",
      " 3   Year     63283 non-null  int64         \n",
      "dtypes: datetime64[ns](1), int64(2), object(1)\n",
      "memory usage: 1.9+ MB\n",
      "None\n",
      "<class 'pandas.core.frame.DataFrame'>\n",
      "RangeIndex: 63283 entries, 0 to 63282\n",
      "Data columns (total 4 columns):\n",
      " #   Column   Non-Null Count  Dtype         \n",
      "---  ------   --------------  -----         \n",
      " 0   country  63283 non-null  object        \n",
      " 1   rank     63283 non-null  int64         \n",
      " 2   time     63283 non-null  datetime64[ns]\n",
      " 3   Year     63283 non-null  int64         \n",
      "dtypes: datetime64[ns](1), int64(2), object(1)\n",
      "memory usage: 1.9+ MB\n",
      "None\n"
     ]
    }
   ],
   "source": [
    "df2 = df\n",
    "print(df2.info())\n",
    "df2 = df2.replace(\"North Macedonia\",\"Macedonia\")\n",
    "df2 = df2.replace(\"FYR Macedonia\",\"Macedonia\")\n",
    "df2 = df2.replace(\"Cabo Verde\",\"Cape Verde\")\n",
    "df2 = df2.replace(\"Cape Verde Islands\",\"Cape Verde\")\n",
    "df2 = df2.replace(\"IR Iran\",\"Iran\")\n",
    "df2 = df2.replace(\"China PR\",\"China\")\n",
    "df2 = df2.replace(\"Korea Republic\",\"South Korea\")\n",
    "df2 = df2.replace(\"Korea DPR\",\"North Korea\")\n",
    "df2 = df2.replace(\"Kyrgyz Republic\",\"Kyrgyzstan\")\n",
    "df2 = df2.replace(\"Zaire\",\"Congo DR\")\n",
    "df2 = df2.replace(\"Timor-Leste\",\"East Timor\")\n",
    "\n",
    "print(df2.info())"
   ]
  },
  {
   "cell_type": "code",
   "execution_count": 34,
   "id": "8a94f458-4628-4dc1-aa5b-e8d85923e16c",
   "metadata": {
    "tags": []
   },
   "outputs": [
    {
     "name": "stdout",
     "output_type": "stream",
     "text": [
      "time            1992-12-31  1993-08-08  1993-09-23  1993-10-22  1993-11-19  \\\n",
      "country                                                                      \n",
      "Afghanistan            NaN         NaN         NaN         NaN         NaN   \n",
      "Albania               86.0        92.0        91.0        91.0        93.0   \n",
      "Algeria               30.0        34.0        30.0        31.0        33.0   \n",
      "American Samoa         NaN         NaN         NaN         NaN         NaN   \n",
      "Andorra                NaN         NaN         NaN         NaN         NaN   \n",
      "\n",
      "time            1993-12-23  1994-02-15  1994-03-15  1994-04-19  1994-05-17  \\\n",
      "country                                                                      \n",
      "Afghanistan            NaN         NaN         NaN         NaN         NaN   \n",
      "Albania               92.0        93.0        95.0        94.0        97.0   \n",
      "Algeria               35.0        37.0        37.0        38.0        46.0   \n",
      "American Samoa         NaN         NaN         NaN         NaN         NaN   \n",
      "Andorra                NaN         NaN         NaN         NaN         NaN   \n",
      "\n",
      "time            ...  2021-02-18  2021-04-07  2021-05-27  2021-08-12  \\\n",
      "country         ...                                                   \n",
      "Afghanistan     ...       150.0       149.0       149.0       153.0   \n",
      "Albania         ...        66.0        66.0        66.0        69.0   \n",
      "Algeria         ...        31.0        33.0        33.0        30.0   \n",
      "American Samoa  ...       192.0       191.0       191.0       192.0   \n",
      "Andorra         ...       151.0       158.0       158.0       156.0   \n",
      "\n",
      "time            2021-09-16  2021-10-21  2021-11-19  2021-12-23  2022-02-10  \\\n",
      "country                                                                      \n",
      "Afghanistan          153.0       152.0       150.0       149.0       150.0   \n",
      "Albania               66.0        63.0        66.0        66.0        65.0   \n",
      "Algeria               30.0        30.0        32.0        29.0        43.0   \n",
      "American Samoa       192.0       192.0       190.0       190.0       190.0   \n",
      "Andorra              156.0       153.0       155.0       155.0       155.0   \n",
      "\n",
      "time            2022-03-31  \n",
      "country                     \n",
      "Afghanistan          150.0  \n",
      "Albania               66.0  \n",
      "Algeria               44.0  \n",
      "American Samoa       189.0  \n",
      "Andorra              153.0  \n",
      "\n",
      "[5 rows x 319 columns]\n"
     ]
    }
   ],
   "source": [
    "df3 =pd.pivot_table(df2,\n",
    "                    index = 'country',\n",
    "                    columns = 'time',\n",
    "                    values = 'rank')\n",
    "print(df3.head())\n",
    "df3.to_csv('data/rank.csv',encoding='utf-8')"
   ]
  },
  {
   "cell_type": "code",
   "execution_count": null,
   "id": "5c2369b3-5ce8-4f69-aa5d-150097444872",
   "metadata": {},
   "outputs": [],
   "source": []
  }
 ],
 "metadata": {
  "kernelspec": {
   "display_name": "Python 3 (ipykernel)",
   "language": "python",
   "name": "python3"
  },
  "language_info": {
   "codemirror_mode": {
    "name": "ipython",
    "version": 3
   },
   "file_extension": ".py",
   "mimetype": "text/x-python",
   "name": "python",
   "nbconvert_exporter": "python",
   "pygments_lexer": "ipython3",
   "version": "3.9.7"
  }
 },
 "nbformat": 4,
 "nbformat_minor": 5
}
