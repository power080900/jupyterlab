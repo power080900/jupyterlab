{
 "cells": [
  {
   "cell_type": "code",
   "execution_count": 1,
   "id": "1ae485fb-e257-4105-861e-a1fc4a6c96a1",
   "metadata": {},
   "outputs": [
    {
     "name": "stdout",
     "output_type": "stream",
     "text": [
      "        name  rank       time\n",
      "0     Brazil     1  31-Mar-22\n",
      "1    Belgium     2  31-Mar-22\n",
      "2     France     3  31-Mar-22\n",
      "3  Argentina     4  31-Mar-22\n",
      "4    England     5  31-Mar-22\n"
     ]
    }
   ],
   "source": [
    "import pandas as pd\n",
    "df = pd.read_csv('data/fifa_rank.csv',encoding='utf-8')\n",
    "\n",
    "print(df.head())"
   ]
  },
  {
   "cell_type": "code",
   "execution_count": 2,
   "id": "6f6678df-5adb-4100-99bf-3cd272021dd4",
   "metadata": {},
   "outputs": [
    {
     "name": "stdout",
     "output_type": "stream",
     "text": [
      "<class 'pandas.core.frame.DataFrame'>\n",
      "RangeIndex: 63283 entries, 0 to 63282\n",
      "Data columns (total 3 columns):\n",
      " #   Column  Non-Null Count  Dtype         \n",
      "---  ------  --------------  -----         \n",
      " 0   name    63283 non-null  object        \n",
      " 1   rank    63283 non-null  int64         \n",
      " 2   time    63283 non-null  datetime64[ns]\n",
      "dtypes: datetime64[ns](1), int64(1), object(1)\n",
      "memory usage: 1.4+ MB\n",
      "None\n"
     ]
    }
   ],
   "source": [
    "from datetime import datetime\n",
    "import numpy as np\n",
    "\n",
    "df['time'] = pd.to_datetime(df['time'])\n",
    "print(df.info())"
   ]
  },
  {
   "cell_type": "code",
   "execution_count": 3,
   "id": "ae61cc5f-13d4-4d96-8fd0-75578f463afd",
   "metadata": {},
   "outputs": [
    {
     "name": "stdout",
     "output_type": "stream",
     "text": [
      "        name  rank       time  Year\n",
      "0     Brazil     1 2022-03-31  2022\n",
      "1    Belgium     2 2022-03-31  2022\n",
      "2     France     3 2022-03-31  2022\n",
      "3  Argentina     4 2022-03-31  2022\n",
      "4    England     5 2022-03-31  2022\n"
     ]
    }
   ],
   "source": [
    "df['Year'] = df['time'].dt.year\n",
    "\n",
    "print(df.head())"
   ]
  },
  {
   "cell_type": "code",
   "execution_count": 4,
   "id": "829818be-d30a-4ce4-a88a-af3d7969fe84",
   "metadata": {},
   "outputs": [
    {
     "name": "stdout",
     "output_type": "stream",
     "text": [
      "<class 'pandas.core.frame.DataFrame'>\n",
      "RangeIndex: 63283 entries, 0 to 63282\n",
      "Data columns (total 4 columns):\n",
      " #   Column  Non-Null Count  Dtype         \n",
      "---  ------  --------------  -----         \n",
      " 0   name    63283 non-null  object        \n",
      " 1   rank    63283 non-null  int64         \n",
      " 2   time    63283 non-null  datetime64[ns]\n",
      " 3   Year    63283 non-null  int64         \n",
      "dtypes: datetime64[ns](1), int64(2), object(1)\n",
      "memory usage: 1.9+ MB\n",
      "None\n",
      "                           name  rank       time  Year\n",
      "0                        Brazil     1 2022-03-31  2022\n",
      "1                       Belgium     2 2022-03-31  2022\n",
      "2                        France     3 2022-03-31  2022\n",
      "3                     Argentina     4 2022-03-31  2022\n",
      "4                       England     5 2022-03-31  2022\n",
      "...                         ...   ...        ...   ...\n",
      "63278                   Belarus   146 1992-12-31  1992\n",
      "63279                Seychelles   147 1992-12-31  1992\n",
      "63280  Central African Republic   148 1992-12-31  1992\n",
      "63281                     Nepal   149 1992-12-31  1992\n",
      "63282                    Gambia   150 1992-12-31  1992\n",
      "\n",
      "[63283 rows x 4 columns]\n"
     ]
    }
   ],
   "source": [
    "df2 = df\n",
    "print(df2.info())\n",
    "df2 = df2.replace(\"North Macedonia\",\"Macedonia\")\n",
    "df2 = df2.replace(\"FYR Macedonia\",\"Macedonia\")\n",
    "df2 = df2.replace(\"Cabo Verde\",\"Cape Verde\")\n",
    "df2 = df2.replace(\"Cape Verde Islands\",\"Cape Verde\")\n",
    "df2 = df2.replace(\"IR Iran\",\"Iran\")\n",
    "df2 = df2.replace(\"China PR\",\"China\")\n",
    "df2 = df2.replace(\"Korea Republic\",\"South Korea\")\n",
    "df2 = df2.replace(\"Korea DPR\",\"North Korea\")\n",
    "df2 = df2.replace(\"Kyrgyz Republic\",\"Kyrgyzstan\")\n",
    "df2 = df2.replace(\"Zaire\",\"Congo DR\")\n",
    "df2 = df2.replace(\"Timor-Leste\",\"East Timor\")\n",
    "\n",
    "print(df2)"
   ]
  },
  {
   "cell_type": "code",
   "execution_count": 8,
   "id": "9976ff64-5ec3-4b68-b7b7-abcaa9f7d363",
   "metadata": {
    "tags": []
   },
   "outputs": [
    {
     "name": "stdout",
     "output_type": "stream",
     "text": [
      "Year            1992  1993   1994  1995   1996   1997   1998   1999   2000  \\\n",
      "name                                                                         \n",
      "Afghanistan      NaN   NaN    NaN   NaN    NaN    NaN    NaN    NaN    NaN   \n",
      "Albania         86.0  91.0  100.0  96.0  102.0  118.0  103.0   90.0   84.0   \n",
      "Algeria         30.0  32.0   47.0  52.0   45.0   55.0   61.0   76.0   78.0   \n",
      "American Samoa   NaN   NaN    NaN   NaN    NaN    NaN  192.0  198.0  201.0   \n",
      "Andorra          NaN   NaN    NaN   NaN    NaN  185.0  178.0  156.0  146.0   \n",
      "\n",
      "Year             2001  ...   2013   2014   2015   2016   2017   2018   2019  \\\n",
      "name                   ...                                                    \n",
      "Afghanistan       NaN  ...  145.0  132.0  141.0  149.0  153.0  145.0  148.0   \n",
      "Albania          84.0  ...   51.0   59.0   44.0   41.0   62.0   58.0   64.0   \n",
      "Algeria          77.0  ...   31.0   22.0   20.0   34.0   53.0   64.0   49.0   \n",
      "American Samoa  201.0  ...  194.0  196.0  192.0  175.0  190.0  191.0  191.0   \n",
      "Andorra         143.0  ...  202.0  199.0  202.0  202.0  165.0  132.0  135.0   \n",
      "\n",
      "Year             2020   2021   2022  \n",
      "name                                 \n",
      "Afghanistan     149.0  150.0  150.0  \n",
      "Albania          66.0   66.0   65.0  \n",
      "Algeria          33.0   31.0   43.0  \n",
      "American Samoa  192.0  191.0  189.0  \n",
      "Andorra         140.0  155.0  154.0  \n",
      "\n",
      "[5 rows x 31 columns]\n"
     ]
    }
   ],
   "source": [
    "df3 = np.trunc(pd.pivot_table(df2,\n",
    "                    index = 'name',\n",
    "                    columns = 'Year',\n",
    "                    values = 'rank'))\n",
    "\n",
    "print(df3.head())"
   ]
  },
  {
   "cell_type": "code",
   "execution_count": 10,
   "id": "d7a22022-1df5-4de1-903b-97214903f418",
   "metadata": {},
   "outputs": [],
   "source": [
    "df3.to_csv('data/rank.csv',encoding='utf-8')"
   ]
  },
  {
   "cell_type": "code",
   "execution_count": 39,
   "id": "48481081-353e-4fcc-a8e0-90d7fbc7ccc1",
   "metadata": {},
   "outputs": [],
   "source": [
    "import pandas as pd\n",
    "df3 = pd.read_csv('data/rank.csv',encoding='utf-8')\n",
    "time = pd.read_csv(\"./data/countries.csv\",encoding='utf-8')\n",
    "short = pd.read_csv(\"./data/Shortname.csv\",encoding='utf-8')"
   ]
  },
  {
   "cell_type": "code",
   "execution_count": 40,
   "id": "a476911b-e821-45a8-ba0b-4892f16655a4",
   "metadata": {},
   "outputs": [],
   "source": [
    "time = time.replace('Democratic Republic of the Congo','Congo DR')\n",
    "time = time.replace('Republic of the Congo','Congo')\n",
    "time = time.replace('United States','USA')\n",
    "time = time.replace('Kingdom of the Netherlands','Netherlands')\n",
    "time = time.replace('The Gambia','Gambia')\n",
    "time = time.replace('Saint Kitts and Nevis','St. Kitts and Nevis')\n",
    "time = time.replace('Saint Lucia','St. Lucia')\n",
    "time = time.replace('Saint Vincent and the Grenadines','St. Vincent and the Grenadines')\n",
    "time = time.replace(\"People's Republic of China\",'China')"
   ]
  },
  {
   "cell_type": "code",
   "execution_count": 41,
   "id": "b7086a04-fd2e-4ed1-9dd3-2d5792e825c0",
   "metadata": {},
   "outputs": [],
   "source": [
    "short = short.replace(\"North Macedonia\",\"Macedonia\")\n",
    "short = short.replace(\"FYR Macedonia\",\"Macedonia\")\n",
    "short = short.replace(\"Cabo Verde\",\"Cape Verde\")\n",
    "short = short.replace(\"Cape Verde Islands\",\"Cape Verde\")\n",
    "short = short.replace(\"IR Iran\",\"Iran\")\n",
    "short = short.replace(\"China PR\",\"China\")\n",
    "short = short.replace(\"Korea Republic\",\"South Korea\")\n",
    "short = short.replace(\"Korea DPR\",\"North Korea\")\n",
    "short = short.replace(\"Kyrgyz Republic\",\"Kyrgyzstan\")\n",
    "short = short.replace(\"Zaire\",\"Congo DR\")\n",
    "short = short.replace(\"Timor-Leste\",\"East Timor\")"
   ]
  },
  {
   "cell_type": "code",
   "execution_count": 42,
   "id": "edfe641e-7979-42f1-a9be-29c1e9d10ab5",
   "metadata": {},
   "outputs": [],
   "source": [
    "df4 = pd.merge(df3, time, how='left', on='name')\n",
    "df4 = pd.merge(df4, short, how='outer', on='name')"
   ]
  },
  {
   "cell_type": "code",
   "execution_count": 43,
   "id": "21d2f4f6-4d9d-452f-9a8d-e0a7daec13e7",
   "metadata": {},
   "outputs": [
    {
     "name": "stdout",
     "output_type": "stream",
     "text": [
      "           name   1992  1993  1994   1995   1996   1997   1998   1999   2000  \\\n",
      "212       Wales   28.0  28.0  34.0   51.0   71.0   90.0  100.0   83.0  103.0   \n",
      "213       Yemen  115.0  90.0  99.0  112.0  132.0  134.0  138.0  150.0  158.0   \n",
      "214  Yugoslavia   29.0  63.0  82.0   85.0   68.0   37.0    7.0   16.0   10.0   \n",
      "215      Zambia   32.0  26.0  21.0   27.0   16.0   20.0   22.0   35.0   41.0   \n",
      "216    Zimbabwe   54.0  46.0  46.0   47.0   65.0   62.0   77.0   73.0   69.0   \n",
      "\n",
      "     ...   2019   2020   2021   2022        timezones  code  continent  \\\n",
      "212  ...   22.0   21.0   18.0   19.0    Europe/London    GB     Europe   \n",
      "213  ...  142.0  144.0  149.0  151.0        Asia/Aden    YE       Asia   \n",
      "214  ...    NaN    NaN    NaN    NaN  Europe/Belgrade    YG     Europe   \n",
      "215  ...   82.0   88.0   87.0   87.0    Africa/Lusaka    ZM     Africa   \n",
      "216  ...  112.0  110.0  113.0  122.0    Africa/Harare    ZW     Africa   \n",
      "\n",
      "      capital  country_abrv  confederation  \n",
      "212   Cardiff           WAL           UEFA  \n",
      "213    Sana'a           YEM            AFC  \n",
      "214  Belgrade           YUG           UEFA  \n",
      "215    Lusaka           ZAM            CAF  \n",
      "216    Harare           ZIM            CAF  \n",
      "\n",
      "[5 rows x 38 columns]\n"
     ]
    }
   ],
   "source": [
    "print(df4.tail())"
   ]
  },
  {
   "cell_type": "code",
   "execution_count": 44,
   "id": "d97bc469-d7e4-4f75-b469-931819df3c8f",
   "metadata": {},
   "outputs": [
    {
     "name": "stdout",
     "output_type": "stream",
     "text": [
      "217\n"
     ]
    }
   ],
   "source": [
    "from pytz import timezone\n",
    "from datetime import datetime\n",
    "\n",
    "cup2018 = int(str(datetime.now(timezone('Europe/Moscow')))[-5:-3])+int(str(datetime.now(timezone('Europe/Moscow')))[-2:])/60\n",
    "cup2022 = int(str(datetime.now(timezone('Asia/Qatar')))[-5:-3])+int(str(datetime.now(timezone('Asia/Qatar')))[-2:])/60\n",
    "timeDiff2018 = []\n",
    "timeDiff2022 = []\n",
    "print(len(df4['timezones']))\n",
    "for i in df4['timezones']:\n",
    "    timeNow = int(str(datetime.now(timezone(i)))[-5:-3])+int(str(datetime.now(timezone(i)))[-2:])/60\n",
    "    timeDiff2018.append(abs(timeNow-cup2018))\n",
    "    timeDiff2022.append(abs(timeNow-cup2022))\n",
    "\n",
    "timeDiff2018 = pd.DataFrame(timeDiff2018, columns = ['timeDiff2018'])\n",
    "timeDiff2022 = pd.DataFrame(timeDiff2022, columns = ['timeDiff2022'])\n",
    "\n",
    "df5 = pd.concat([df4, timeDiff2018, timeDiff2022],axis=1)"
   ]
  },
  {
   "cell_type": "code",
   "execution_count": 45,
   "id": "1e339f89-6e1a-4825-b028-3739f8a8e765",
   "metadata": {},
   "outputs": [
    {
     "name": "stdout",
     "output_type": "stream",
     "text": [
      "               name   1992  1993   1994   1995   1996   1997   1998   1999  \\\n",
      "0       Afghanistan    NaN   NaN    NaN    NaN    NaN    NaN    NaN    NaN   \n",
      "1           Albania   86.0  91.0  100.0   96.0  102.0  118.0  103.0   90.0   \n",
      "2           Algeria   30.0  32.0   47.0   52.0   45.0   55.0   61.0   76.0   \n",
      "3    American Samoa    NaN   NaN    NaN    NaN    NaN    NaN  192.0  198.0   \n",
      "4           Andorra    NaN   NaN    NaN    NaN    NaN  185.0  178.0  156.0   \n",
      "..              ...    ...   ...    ...    ...    ...    ...    ...    ...   \n",
      "212           Wales   28.0  28.0   34.0   51.0   71.0   90.0  100.0   83.0   \n",
      "213           Yemen  115.0  90.0   99.0  112.0  132.0  134.0  138.0  150.0   \n",
      "214      Yugoslavia   29.0  63.0   82.0   85.0   68.0   37.0    7.0   16.0   \n",
      "215          Zambia   32.0  26.0   21.0   27.0   16.0   20.0   22.0   35.0   \n",
      "216        Zimbabwe   54.0  46.0   46.0   47.0   65.0   62.0   77.0   73.0   \n",
      "\n",
      "      2000  ...   2021   2022          timezones  code      continent  \\\n",
      "0      NaN  ...  150.0  150.0         Asia/Kabul    AF           Asia   \n",
      "1     84.0  ...   66.0   65.0      Europe/Tirane    AL         Europe   \n",
      "2     78.0  ...   31.0   43.0     Africa/Algiers    DZ         Africa   \n",
      "3    201.0  ...  191.0  189.0  Pacific/Pago_Pago    AS  North America   \n",
      "4    146.0  ...  155.0  154.0     Europe/Andorra    AD         Europe   \n",
      "..     ...  ...    ...    ...                ...   ...            ...   \n",
      "212  103.0  ...   18.0   19.0      Europe/London    GB         Europe   \n",
      "213  158.0  ...  149.0  151.0          Asia/Aden    YE           Asia   \n",
      "214   10.0  ...    NaN    NaN    Europe/Belgrade    YG         Europe   \n",
      "215   41.0  ...   87.0   87.0      Africa/Lusaka    ZM         Africa   \n",
      "216   69.0  ...  113.0  122.0      Africa/Harare    ZW         Africa   \n",
      "\n",
      "              capital  country_abrv  confederation  timeDiff2018  timeDiff2022  \n",
      "0               Kabul           AFG            AFC           1.5           1.5  \n",
      "1              Tirana           ALB           UEFA           1.0           1.0  \n",
      "2             Algiers           ALG            CAF           2.0           2.0  \n",
      "3           Pago Pago           ASA            OFC           8.0           8.0  \n",
      "4    Andorra la Vella           AND           UEFA           1.0           1.0  \n",
      "..                ...           ...            ...           ...           ...  \n",
      "212           Cardiff           WAL           UEFA           2.0           2.0  \n",
      "213            Sana'a           YEM            AFC           0.0           0.0  \n",
      "214          Belgrade           YUG           UEFA           1.0           1.0  \n",
      "215            Lusaka           ZAM            CAF           1.0           1.0  \n",
      "216            Harare           ZIM            CAF           1.0           1.0  \n",
      "\n",
      "[217 rows x 40 columns]\n"
     ]
    }
   ],
   "source": [
    "print(df5)"
   ]
  },
  {
   "cell_type": "code",
   "execution_count": 46,
   "id": "dcfdf68e-6b17-46ab-a5cf-538e4f450abf",
   "metadata": {},
   "outputs": [],
   "source": [
    "df5.to_csv(\"./data/dataframe.csv\",index=False)"
   ]
  }
 ],
 "metadata": {
  "kernelspec": {
   "display_name": "Python 3 (ipykernel)",
   "language": "python",
   "name": "python3"
  },
  "language_info": {
   "codemirror_mode": {
    "name": "ipython",
    "version": 3
   },
   "file_extension": ".py",
   "mimetype": "text/x-python",
   "name": "python",
   "nbconvert_exporter": "python",
   "pygments_lexer": "ipython3",
   "version": "3.9.7"
  }
 },
 "nbformat": 4,
 "nbformat_minor": 5
}
