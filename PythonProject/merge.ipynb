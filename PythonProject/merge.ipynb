{
 "cells": [
  {
   "cell_type": "code",
   "execution_count": 20,
   "id": "c6d5de35-510f-47ce-95fc-63a842d66280",
   "metadata": {},
   "outputs": [],
   "source": [
    "import pandas as pd\n",
    "df = pd.read_csv('data/rank.csv',encoding='utf-8')\n",
    "time = pd.read_csv(\"./data/countries.csv\",encoding='utf-8')"
   ]
  },
  {
   "cell_type": "code",
   "execution_count": 25,
   "id": "a476911b-e821-45a8-ba0b-4892f16655a4",
   "metadata": {},
   "outputs": [],
   "source": [
    "time = time.replace('Democratic Republic of the Congo','Congo DR')\n",
    "time = time.replace('Republic of the Congo','Congo')\n",
    "time = time.replace('United States','USA')\n",
    "time = time.replace('Kingdom of the Netherlands','Netherlands')\n",
    "time = time.replace('The Gambia','Gambia')\n",
    "time = time.replace('Saint Kitts and Nevis','St. Kitts and Nevis')\n",
    "time = time.replace('Saint Lucia','St. Lucia')\n",
    "time = time.replace('Saint Vincent and the Grenadines','St. Vincent and the Grenadines')\n",
    "time = time.replace(\"People's Republic of China\",'China')"
   ]
  },
  {
   "cell_type": "code",
   "execution_count": 79,
   "id": "edfe641e-7979-42f1-a9be-29c1e9d10ab5",
   "metadata": {},
   "outputs": [],
   "source": [
    "df2 = pd.merge(df, time, how='outer', on='country')"
   ]
  },
  {
   "cell_type": "code",
   "execution_count": 80,
   "id": "21d2f4f6-4d9d-452f-9a8d-e0a7daec13e7",
   "metadata": {},
   "outputs": [],
   "source": [
    "df2 = df2.set_index(\"country\")"
   ]
  },
  {
   "cell_type": "code",
   "execution_count": null,
   "id": "1e339f89-6e1a-4825-b028-3739f8a8e765",
   "metadata": {},
   "outputs": [],
   "source": []
  },
  {
   "cell_type": "code",
   "execution_count": null,
   "id": "5cce4ab3-26c3-4547-9e79-0a128b6ac98e",
   "metadata": {},
   "outputs": [],
   "source": []
  },
  {
   "cell_type": "code",
   "execution_count": 94,
   "id": "dcfdf68e-6b17-46ab-a5cf-538e4f450abf",
   "metadata": {},
   "outputs": [],
   "source": [
    "df2.to_csv(\"./data/dataframe.csv\")"
   ]
  }
 ],
 "metadata": {
  "kernelspec": {
   "display_name": "Python 3 (ipykernel)",
   "language": "python",
   "name": "python3"
  },
  "language_info": {
   "codemirror_mode": {
    "name": "ipython",
    "version": 3
   },
   "file_extension": ".py",
   "mimetype": "text/x-python",
   "name": "python",
   "nbconvert_exporter": "python",
   "pygments_lexer": "ipython3",
   "version": "3.9.7"
  }
 },
 "nbformat": 4,
 "nbformat_minor": 5
}
