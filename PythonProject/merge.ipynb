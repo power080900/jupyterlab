{
 "cells": [
  {
   "cell_type": "code",
   "execution_count": 89,
   "id": "c6d5de35-510f-47ce-95fc-63a842d66280",
   "metadata": {},
   "outputs": [],
   "source": [
    "import pandas as pd\n",
    "df = pd.read_csv('data/rank.csv',encoding='utf-8')\n",
    "time = pd.read_csv(\"./data/countries.csv\",encoding='utf-8')"
   ]
  },
  {
   "cell_type": "code",
   "execution_count": 90,
   "id": "a476911b-e821-45a8-ba0b-4892f16655a4",
   "metadata": {},
   "outputs": [],
   "source": [
    "time = time.replace('Democratic Republic of the Congo','Congo DR')\n",
    "time = time.replace('Republic of the Congo','Congo')\n",
    "time = time.replace('United States','USA')\n",
    "time = time.replace('Kingdom of the Netherlands','Netherlands')\n",
    "time = time.replace('The Gambia','Gambia')\n",
    "time = time.replace('Saint Kitts and Nevis','St. Kitts and Nevis')\n",
    "time = time.replace('Saint Lucia','St. Lucia')\n",
    "time = time.replace('Saint Vincent and the Grenadines','St. Vincent and the Grenadines')\n",
    "time = time.replace(\"People's Republic of China\",'China')"
   ]
  },
  {
   "cell_type": "code",
   "execution_count": 91,
   "id": "edfe641e-7979-42f1-a9be-29c1e9d10ab5",
   "metadata": {},
   "outputs": [],
   "source": [
    "df2 = pd.merge(df, time, how='left', on='name')"
   ]
  },
  {
   "cell_type": "code",
   "execution_count": 92,
   "id": "21d2f4f6-4d9d-452f-9a8d-e0a7daec13e7",
   "metadata": {},
   "outputs": [
    {
     "name": "stdout",
     "output_type": "stream",
     "text": [
      "           name  1992-12-31  1993-08-08  1993-09-23  1993-10-22  1993-11-19  \\\n",
      "211       Wales        28.0        27.0        29.0        28.0        28.0   \n",
      "212       Yemen       115.0        90.0        90.0        93.0        90.0   \n",
      "213  Yugoslavia        29.0        56.0        62.0        65.0        67.0   \n",
      "214      Zambia        32.0        25.0        27.0        25.0        29.0   \n",
      "215    Zimbabwe        54.0        50.0        47.0        43.0        46.0   \n",
      "\n",
      "     1993-12-23  1994-02-15  1994-03-15  1994-04-19  ...  2021-09-16  \\\n",
      "211        29.0        27.0        27.0        32.0  ...        19.0   \n",
      "212        91.0        91.0        91.0        91.0  ...       152.0   \n",
      "213        68.0        70.0        74.0        74.0  ...         NaN   \n",
      "214        27.0        30.0        22.0        19.0  ...        85.0   \n",
      "215        46.0        46.0        41.0        41.0  ...       113.0   \n",
      "\n",
      "     2021-10-21  2021-11-19  2021-12-23  2022-02-10  2022-03-31  \\\n",
      "211        19.0        19.0        19.0        20.0        18.0   \n",
      "212       151.0       152.0       151.0       151.0       151.0   \n",
      "213         NaN         NaN         NaN         NaN         NaN   \n",
      "214        87.0        88.0        88.0        88.0        87.0   \n",
      "215       118.0       121.0       121.0       122.0       122.0   \n",
      "\n",
      "           timezones  code  continent   capital  \n",
      "211    Europe/London    GB     Europe   Cardiff  \n",
      "212        Asia/Aden    YE       Asia    Sana'a  \n",
      "213  Europe/Belgrade    YG     Europe  Belgrade  \n",
      "214    Africa/Lusaka    ZM     Africa    Lusaka  \n",
      "215    Africa/Harare    ZW     Africa    Harare  \n",
      "\n",
      "[5 rows x 324 columns]\n"
     ]
    }
   ],
   "source": [
    "print(df2.tail())"
   ]
  },
  {
   "cell_type": "code",
   "execution_count": 93,
   "id": "d97bc469-d7e4-4f75-b469-931819df3c8f",
   "metadata": {},
   "outputs": [
    {
     "name": "stdout",
     "output_type": "stream",
     "text": [
      "216\n",
      "               name  1992-12-31  1993-08-08  1993-09-23  1993-10-22  \\\n",
      "0       Afghanistan         NaN         NaN         NaN         NaN   \n",
      "1           Albania        86.0        92.0        91.0        91.0   \n",
      "2           Algeria        30.0        34.0        30.0        31.0   \n",
      "3    American Samoa         NaN         NaN         NaN         NaN   \n",
      "4           Andorra         NaN         NaN         NaN         NaN   \n",
      "..              ...         ...         ...         ...         ...   \n",
      "211           Wales        28.0        27.0        29.0        28.0   \n",
      "212           Yemen       115.0        90.0        90.0        93.0   \n",
      "213      Yugoslavia        29.0        56.0        62.0        65.0   \n",
      "214          Zambia        32.0        25.0        27.0        25.0   \n",
      "215        Zimbabwe        54.0        50.0        47.0        43.0   \n",
      "\n",
      "     1993-11-19  1993-12-23  1994-02-15  1994-03-15  1994-04-19  ...  \\\n",
      "0           NaN         NaN         NaN         NaN         NaN  ...   \n",
      "1          93.0        92.0        93.0        95.0        94.0  ...   \n",
      "2          33.0        35.0        37.0        37.0        38.0  ...   \n",
      "3           NaN         NaN         NaN         NaN         NaN  ...   \n",
      "4           NaN         NaN         NaN         NaN         NaN  ...   \n",
      "..          ...         ...         ...         ...         ...  ...   \n",
      "211        28.0        29.0        27.0        27.0        32.0  ...   \n",
      "212        90.0        91.0        91.0        91.0        91.0  ...   \n",
      "213        67.0        68.0        70.0        74.0        74.0  ...   \n",
      "214        29.0        27.0        30.0        22.0        19.0  ...   \n",
      "215        46.0        46.0        46.0        41.0        41.0  ...   \n",
      "\n",
      "     2021-11-19  2021-12-23  2022-02-10  2022-03-31          timezones  code  \\\n",
      "0         150.0       149.0       150.0       150.0         Asia/Kabul    AF   \n",
      "1          66.0        66.0        65.0        66.0      Europe/Tirane    AL   \n",
      "2          32.0        29.0        43.0        44.0     Africa/Algiers    DZ   \n",
      "3         190.0       190.0       190.0       189.0  Pacific/Pago_Pago    AS   \n",
      "4         155.0       155.0       155.0       153.0     Europe/Andorra    AD   \n",
      "..          ...         ...         ...         ...                ...   ...   \n",
      "211        19.0        19.0        20.0        18.0      Europe/London    GB   \n",
      "212       152.0       151.0       151.0       151.0          Asia/Aden    YE   \n",
      "213         NaN         NaN         NaN         NaN    Europe/Belgrade    YG   \n",
      "214        88.0        88.0        88.0        87.0      Africa/Lusaka    ZM   \n",
      "215       121.0       121.0       122.0       122.0      Africa/Harare    ZW   \n",
      "\n",
      "         continent           capital  timeDiff2018  timeDiff2022  \n",
      "0             Asia             Kabul           1.5           1.5  \n",
      "1           Europe            Tirana           1.0           1.0  \n",
      "2           Africa           Algiers           2.0           2.0  \n",
      "3    North America         Pago Pago           8.0           8.0  \n",
      "4           Europe  Andorra la Vella           1.0           1.0  \n",
      "..             ...               ...           ...           ...  \n",
      "211         Europe           Cardiff           2.0           2.0  \n",
      "212           Asia            Sana'a           0.0           0.0  \n",
      "213         Europe          Belgrade           1.0           1.0  \n",
      "214         Africa            Lusaka           1.0           1.0  \n",
      "215         Africa            Harare           1.0           1.0  \n",
      "\n",
      "[216 rows x 326 columns]\n"
     ]
    }
   ],
   "source": [
    "from pytz import timezone\n",
    "from datetime import datetime\n",
    "\n",
    "cup2018 = int(str(datetime.now(timezone('Europe/Moscow')))[-5:-3])+int(str(datetime.now(timezone('Europe/Moscow')))[-2:])/60\n",
    "cup2022 = int(str(datetime.now(timezone('Asia/Qatar')))[-5:-3])+int(str(datetime.now(timezone('Asia/Qatar')))[-2:])/60\n",
    "timeDiff2018 = []\n",
    "timeDiff2022 = []\n",
    "print(len(df2['timezones']))\n",
    "for i in df2['timezones']:\n",
    "    timeNow = int(str(datetime.now(timezone(i)))[-5:-3])+int(str(datetime.now(timezone(i)))[-2:])/60\n",
    "    timeDiff2018.append(abs(timeNow-cup2018))\n",
    "    timeDiff2022.append(abs(timeNow-cup2022))\n",
    "\n",
    "timeDiff2018 = pd.DataFrame(timeDiff2018, columns = ['timeDiff2018'])\n",
    "timeDiff2022 = pd.DataFrame(timeDiff2022, columns = ['timeDiff2022'])\n",
    "\n",
    "df3 = pd.concat([df2, timeDiff2018, timeDiff2022],axis=1)"
   ]
  },
  {
   "cell_type": "code",
   "execution_count": 95,
   "id": "1e339f89-6e1a-4825-b028-3739f8a8e765",
   "metadata": {},
   "outputs": [
    {
     "name": "stdout",
     "output_type": "stream",
     "text": [
      "             name  1992-12-31  1993-08-08  1993-09-23  1993-10-22  1993-11-19  \\\n",
      "0     Afghanistan         NaN         NaN         NaN         NaN         NaN   \n",
      "1         Albania        86.0        92.0        91.0        91.0        93.0   \n",
      "2         Algeria        30.0        34.0        30.0        31.0        33.0   \n",
      "3  American Samoa         NaN         NaN         NaN         NaN         NaN   \n",
      "4         Andorra         NaN         NaN         NaN         NaN         NaN   \n",
      "\n",
      "   1993-12-23  1994-02-15  1994-03-15  1994-04-19  ...  2021-11-19  \\\n",
      "0         NaN         NaN         NaN         NaN  ...       150.0   \n",
      "1        92.0        93.0        95.0        94.0  ...        66.0   \n",
      "2        35.0        37.0        37.0        38.0  ...        32.0   \n",
      "3         NaN         NaN         NaN         NaN  ...       190.0   \n",
      "4         NaN         NaN         NaN         NaN  ...       155.0   \n",
      "\n",
      "   2021-12-23  2022-02-10  2022-03-31          timezones  code      continent  \\\n",
      "0       149.0       150.0       150.0         Asia/Kabul    AF           Asia   \n",
      "1        66.0        65.0        66.0      Europe/Tirane    AL         Europe   \n",
      "2        29.0        43.0        44.0     Africa/Algiers    DZ         Africa   \n",
      "3       190.0       190.0       189.0  Pacific/Pago_Pago    AS  North America   \n",
      "4       155.0       155.0       153.0     Europe/Andorra    AD         Europe   \n",
      "\n",
      "            capital  timeDiff2018  timeDiff2022  \n",
      "0             Kabul           1.5           1.5  \n",
      "1            Tirana           1.0           1.0  \n",
      "2           Algiers           2.0           2.0  \n",
      "3         Pago Pago           8.0           8.0  \n",
      "4  Andorra la Vella           1.0           1.0  \n",
      "\n",
      "[5 rows x 326 columns]\n"
     ]
    }
   ],
   "source": [
    "print(df3.head())"
   ]
  },
  {
   "cell_type": "code",
   "execution_count": 97,
   "id": "dcfdf68e-6b17-46ab-a5cf-538e4f450abf",
   "metadata": {},
   "outputs": [],
   "source": [
    "df3.to_csv(\"./data/dataframe.csv\")"
   ]
  }
 ],
 "metadata": {
  "kernelspec": {
   "display_name": "Python 3 (ipykernel)",
   "language": "python",
   "name": "python3"
  },
  "language_info": {
   "codemirror_mode": {
    "name": "ipython",
    "version": 3
   },
   "file_extension": ".py",
   "mimetype": "text/x-python",
   "name": "python",
   "nbconvert_exporter": "python",
   "pygments_lexer": "ipython3",
   "version": "3.9.7"
  }
 },
 "nbformat": 4,
 "nbformat_minor": 5
}
