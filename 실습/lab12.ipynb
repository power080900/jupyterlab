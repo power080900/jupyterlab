{
 "cells": [
  {
   "cell_type": "code",
   "execution_count": 53,
   "id": "6ddf22bc-8fe2-4081-a493-70797cba2e91",
   "metadata": {},
   "outputs": [
    {
     "name": "stdout",
     "output_type": "stream",
     "text": [
      "2-1.\n",
      "    empno   ename        job     mgr    hiredate   sal    comm  deptno\n",
      "0    7369   SMITH      CLERK  7902.0  1980-12-17   800     NaN      20\n",
      "1    7499   ALLEN   SALESMAN  7698.0  1981-02-20  1600   300.0      30\n",
      "2    7521    WARD   SALESMAN  7698.0  1981-02-03  1250   500.0      30\n",
      "3    7566   JONES    MANAGER  7839.0  1981-03-02  2975     NaN      20\n",
      "4    7654  MARTIN   SALESMAN  7698.0  1981-10-22  1250  1400.0      30\n",
      "5    7698   BLAKE    MANAGER  7839.0  1981-05-01  2850     NaN      30\n",
      "6    7782   CLARK    MANAGER  7839.0  1981-09-06  2450     NaN      10\n",
      "7    7788   SCOTT    ANALYST  7566.0  1982-12-08  3000     NaN      20\n",
      "8    7839    KING  PRESIDENT     NaN  1981-11-17  5000     NaN      10\n",
      "9    7844  TURNER   SALESMAN  7698.0  1984-10-08  1500     NaN      30\n",
      "10   7876   ADAMS      CLERK  7788.0  1983-01-12  1100     NaN      20\n",
      "11   7900   JAMES      CLERK  7698.0  1981-12-03   950     NaN      30\n",
      "12   7902    FORD    ANALYST  7566.0  1981-12-13  3000     NaN      20\n",
      "13   7934  MILLER      CLERK  7782.0  1982-01-25  1300     NaN      10\n"
     ]
    }
   ],
   "source": [
    "import pandas as pd\n",
    "\n",
    "df = pd.read_csv('./data/emp.csv')\n",
    "print(\"2-1.\")\n",
    "print(df)"
   ]
  },
  {
   "cell_type": "code",
   "execution_count": 54,
   "id": "205f2ed1-375c-46ce-ad70-fc1f42ea2d69",
   "metadata": {},
   "outputs": [
    {
     "name": "stdout",
     "output_type": "stream",
     "text": [
      "2-2.\n",
      "    empno   ename        job     mgr    hiredate   sal    comm  deptno\n",
      "8    7839    KING  PRESIDENT     NaN  1981-11-17  5000     NaN      10\n",
      "7    7788   SCOTT    ANALYST  7566.0  1982-12-08  3000     NaN      20\n",
      "12   7902    FORD    ANALYST  7566.0  1981-12-13  3000     NaN      20\n",
      "3    7566   JONES    MANAGER  7839.0  1981-03-02  2975     NaN      20\n",
      "5    7698   BLAKE    MANAGER  7839.0  1981-05-01  2850     NaN      30\n",
      "6    7782   CLARK    MANAGER  7839.0  1981-09-06  2450     NaN      10\n",
      "1    7499   ALLEN   SALESMAN  7698.0  1981-02-20  1600   300.0      30\n",
      "9    7844  TURNER   SALESMAN  7698.0  1984-10-08  1500     NaN      30\n",
      "13   7934  MILLER      CLERK  7782.0  1982-01-25  1300     NaN      10\n",
      "2    7521    WARD   SALESMAN  7698.0  1981-02-03  1250   500.0      30\n",
      "4    7654  MARTIN   SALESMAN  7698.0  1981-10-22  1250  1400.0      30\n",
      "10   7876   ADAMS      CLERK  7788.0  1983-01-12  1100     NaN      20\n",
      "11   7900   JAMES      CLERK  7698.0  1981-12-03   950     NaN      30\n",
      "0    7369   SMITH      CLERK  7902.0  1980-12-17   800     NaN      20\n"
     ]
    }
   ],
   "source": [
    "print(\"2-2.\")\n",
    "print(df.sort_values(by='sal',ascending=False))"
   ]
  },
  {
   "cell_type": "code",
   "execution_count": 55,
   "id": "2f69a2e2-ec89-45a3-9a03-1c448bbdcdcc",
   "metadata": {},
   "outputs": [
    {
     "name": "stdout",
     "output_type": "stream",
     "text": [
      "3.\n",
      "(14, 8)\n"
     ]
    }
   ],
   "source": [
    "print(\"3.\")\n",
    "print(df.shape)"
   ]
  },
  {
   "cell_type": "code",
   "execution_count": 56,
   "id": "d2beaf2c-6b37-42aa-97de-587a4e0afc46",
   "metadata": {},
   "outputs": [
    {
     "name": "stdout",
     "output_type": "stream",
     "text": [
      "4.\n",
      "<class 'pandas.core.frame.DataFrame'>\n",
      "RangeIndex: 14 entries, 0 to 13\n",
      "Data columns (total 8 columns):\n",
      " #   Column    Non-Null Count  Dtype  \n",
      "---  ------    --------------  -----  \n",
      " 0   empno     14 non-null     int64  \n",
      " 1   ename     14 non-null     object \n",
      " 2   job       14 non-null     object \n",
      " 3   mgr       13 non-null     float64\n",
      " 4   hiredate  14 non-null     object \n",
      " 5   sal       14 non-null     int64  \n",
      " 6   comm      3 non-null      float64\n",
      " 7   deptno    14 non-null     int64  \n",
      "dtypes: float64(2), int64(3), object(3)\n",
      "memory usage: 1.0+ KB\n",
      "None\n"
     ]
    }
   ],
   "source": [
    "print(\"4.\")\n",
    "print(df.info())"
   ]
  },
  {
   "cell_type": "code",
   "execution_count": 57,
   "id": "ed6a6305-3b14-421e-93e0-da22333b9582",
   "metadata": {},
   "outputs": [
    {
     "name": "stdout",
     "output_type": "stream",
     "text": [
      "5.\n",
      "             empno          mgr          sal         comm     deptno\n",
      "count    14.000000    13.000000    14.000000     3.000000  14.000000\n",
      "mean   7726.571429  7739.307692  2073.214286   733.333333  22.142857\n",
      "std     178.294361   103.714660  1182.503224   585.946528   8.017837\n",
      "min    7369.000000  7566.000000   800.000000   300.000000  10.000000\n",
      "25%    7588.000000  7698.000000  1250.000000   400.000000  20.000000\n",
      "50%    7785.000000  7698.000000  1550.000000   500.000000  20.000000\n",
      "75%    7868.000000  7839.000000  2943.750000   950.000000  30.000000\n",
      "max    7934.000000  7902.000000  5000.000000  1400.000000  30.000000\n"
     ]
    }
   ],
   "source": [
    "print(\"5.\")\n",
    "print(df.describe())"
   ]
  },
  {
   "cell_type": "code",
   "execution_count": 125,
   "id": "3795deb8-7241-44a4-94f5-739e9bf9f9eb",
   "metadata": {},
   "outputs": [
    {
     "name": "stdout",
     "output_type": "stream",
     "text": [
      "6.\n",
      "empno         int64\n",
      "ename        object\n",
      "job          object\n",
      "mgr         float64\n",
      "hiredate     object\n",
      "sal           int64\n",
      "comm        float64\n",
      "deptno        int64\n",
      "dtype: object\n"
     ]
    }
   ],
   "source": [
    "print(\"6.\")\n",
    "print(df.dtypes)"
   ]
  },
  {
   "cell_type": "code",
   "execution_count": 119,
   "id": "069d6a2e-2d2e-46d7-9dfd-f222cd5ca0ee",
   "metadata": {},
   "outputs": [
    {
     "name": "stdout",
     "output_type": "stream",
     "text": [
      "7.\n",
      "empno       14\n",
      "ename       14\n",
      "job         14\n",
      "mgr         13\n",
      "hiredate    14\n",
      "sal         14\n",
      "comm         3\n",
      "deptno      14\n",
      "dtype: int64\n"
     ]
    }
   ],
   "source": [
    "print(\"7.\")\n",
    "print(df.count())"
   ]
  },
  {
   "cell_type": "code",
   "execution_count": 58,
   "id": "dd4e5d10-3228-45b4-a984-1255107b4f1a",
   "metadata": {},
   "outputs": [
    {
     "name": "stdout",
     "output_type": "stream",
     "text": [
      "8.\n",
      "              empno  ename    job          mgr    hiredate          sal  \\\n",
      "count     14.000000     14     14    13.000000          14    14.000000   \n",
      "unique          NaN     14      5          NaN          14          NaN   \n",
      "top             NaN  SMITH  CLERK          NaN  1980-12-17          NaN   \n",
      "freq            NaN      1      4          NaN           1          NaN   \n",
      "mean    7726.571429    NaN    NaN  7739.307692         NaN  2073.214286   \n",
      "std      178.294361    NaN    NaN   103.714660         NaN  1182.503224   \n",
      "min     7369.000000    NaN    NaN  7566.000000         NaN   800.000000   \n",
      "25%     7588.000000    NaN    NaN  7698.000000         NaN  1250.000000   \n",
      "50%     7785.000000    NaN    NaN  7698.000000         NaN  1550.000000   \n",
      "75%     7868.000000    NaN    NaN  7839.000000         NaN  2943.750000   \n",
      "max     7934.000000    NaN    NaN  7902.000000         NaN  5000.000000   \n",
      "\n",
      "               comm     deptno  \n",
      "count      3.000000  14.000000  \n",
      "unique          NaN        NaN  \n",
      "top             NaN        NaN  \n",
      "freq            NaN        NaN  \n",
      "mean     733.333333  22.142857  \n",
      "std      585.946528   8.017837  \n",
      "min      300.000000  10.000000  \n",
      "25%      400.000000  20.000000  \n",
      "50%      500.000000  20.000000  \n",
      "75%      950.000000  30.000000  \n",
      "max     1400.000000  30.000000  \n"
     ]
    }
   ],
   "source": [
    "print(\"8.\")\n",
    "print(df.describe(include='all'))"
   ]
  },
  {
   "cell_type": "code",
   "execution_count": 116,
   "id": "6c964830-e570-4d3f-8a8d-5d2db8a83064",
   "metadata": {},
   "outputs": [
    {
     "name": "stdout",
     "output_type": "stream",
     "text": [
      "9.\n",
      "30    6\n",
      "20    5\n",
      "10    3\n",
      "Name: deptno, dtype: int64\n"
     ]
    }
   ],
   "source": [
    "print(\"9.\")\n",
    "print(df.deptno.value_counts())"
   ]
  },
  {
   "cell_type": "code",
   "execution_count": 115,
   "id": "92cba09b-eab7-40aa-a495-a3e08cba1fe7",
   "metadata": {},
   "outputs": [
    {
     "name": "stdout",
     "output_type": "stream",
     "text": [
      "10.\n",
      "CLERK        4\n",
      "SALESMAN     4\n",
      "MANAGER      3\n",
      "ANALYST      2\n",
      "PRESIDENT    1\n",
      "Name: job, dtype: int64\n"
     ]
    }
   ],
   "source": [
    "print(\"10.\")\n",
    "print(df.job.value_counts())"
   ]
  },
  {
   "cell_type": "code",
   "execution_count": 128,
   "id": "1a784ab9-d3fe-4dcb-b78d-5def6b509994",
   "metadata": {},
   "outputs": [
    {
     "name": "stdout",
     "output_type": "stream",
     "text": [
      "11.\n",
      "empno     7726.571429\n",
      "mgr       7739.307692\n",
      "sal       2073.214286\n",
      "comm       733.333333\n",
      "deptno      22.142857\n",
      "dtype: float64\n"
     ]
    },
    {
     "name": "stderr",
     "output_type": "stream",
     "text": [
      "C:\\Users\\KWON\\AppData\\Local\\Temp/ipykernel_3368/3900950471.py:2: FutureWarning: Dropping of nuisance columns in DataFrame reductions (with 'numeric_only=None') is deprecated; in a future version this will raise TypeError.  Select only valid columns before calling the reduction.\n",
      "  print(df.mean())\n"
     ]
    }
   ],
   "source": [
    "print(\"11.\")\n",
    "print(df.mean())"
   ]
  },
  {
   "cell_type": "code",
   "execution_count": 113,
   "id": "c13b440a-80f9-45d8-9780-7aa341a87d21",
   "metadata": {},
   "outputs": [
    {
     "name": "stdout",
     "output_type": "stream",
     "text": [
      "12.\n",
      "2073.214285714286\n"
     ]
    }
   ],
   "source": [
    "print(\"12.\")\n",
    "print(df.sal.mean())"
   ]
  },
  {
   "cell_type": "code",
   "execution_count": 63,
   "id": "3ba394d5-f45b-4422-89ce-849347218ced",
   "metadata": {},
   "outputs": [
    {
     "name": "stdout",
     "output_type": "stream",
     "text": [
      "13.\n",
      "empno             7934\n",
      "ename             WARD\n",
      "job           SALESMAN\n",
      "mgr             7902.0\n",
      "hiredate    1984-10-08\n",
      "sal               5000\n",
      "comm            1400.0\n",
      "deptno              30\n",
      "dtype: object\n"
     ]
    }
   ],
   "source": [
    "print(\"13.\")\n",
    "print(df.max())"
   ]
  },
  {
   "cell_type": "code",
   "execution_count": 64,
   "id": "7d1f1b68-edbc-40da-be64-27d18b895959",
   "metadata": {},
   "outputs": [
    {
     "name": "stdout",
     "output_type": "stream",
     "text": [
      "14.\n",
      "empno             7369\n",
      "ename            ADAMS\n",
      "job            ANALYST\n",
      "mgr             7566.0\n",
      "hiredate    1980-12-17\n",
      "sal                800\n",
      "comm             300.0\n",
      "deptno              10\n",
      "dtype: object\n"
     ]
    }
   ],
   "source": [
    "print(\"14.\")\n",
    "print(df.min())"
   ]
  },
  {
   "cell_type": "code",
   "execution_count": 130,
   "id": "e6e10755-b8d4-486c-b5dd-b82fa2507c56",
   "metadata": {},
   "outputs": [
    {
     "name": "stdout",
     "output_type": "stream",
     "text": [
      "15.\n",
      "    ename   sal    comm\n",
      "0   SMITH   800     NaN\n",
      "1   ALLEN  1600   300.0\n",
      "2    WARD  1250   500.0\n",
      "3   JONES  2975     NaN\n",
      "4  MARTIN  1250  1400.0\n"
     ]
    }
   ],
   "source": [
    "print(\"15.\")\n",
    "df1 = df.loc[:,('ename','sal','comm')]\n",
    "print(df1.head(5))"
   ]
  },
  {
   "cell_type": "code",
   "execution_count": 131,
   "id": "a9b79d15-4dc2-45a9-a923-68314de5bf13",
   "metadata": {},
   "outputs": [
    {
     "name": "stdout",
     "output_type": "stream",
     "text": [
      "16.\n",
      "         sal    comm\n",
      "ename               \n",
      "SMITH    800     NaN\n",
      "ALLEN   1600   300.0\n",
      "WARD    1250   500.0\n",
      "JONES   2975     NaN\n",
      "MARTIN  1250  1400.0\n"
     ]
    }
   ],
   "source": [
    "print(\"16.\")\n",
    "df1.set_index('ename',inplace=True)\n",
    "print(df1.head())"
   ]
  },
  {
   "cell_type": "code",
   "execution_count": 112,
   "id": "92f9f1a3-7356-4e2c-821e-f7d0e42ed925",
   "metadata": {},
   "outputs": [
    {
     "data": {
      "text/plain": [
       "<AxesSubplot:xlabel='ename'>"
      ]
     },
     "execution_count": 112,
     "metadata": {},
     "output_type": "execute_result"
    },
    {
     "data": {
      "image/png": "[encoded data removed]",
      "text/plain": [
       "<Figure size 432x288 with 1 Axes>"
      ]
     },
     "metadata": {
      "needs_background": "light"
     },
     "output_type": "display_data"
    }
   ],
   "source": [
    "df1.plot.bar()"
   ]
  }
 ],
 "metadata": {
  "kernelspec": {
   "display_name": "Python 3 (ipykernel)",
   "language": "python",
   "name": "python3"
  },
  "language_info": {
   "codemirror_mode": {
    "name": "ipython",
    "version": 3
   },
   "file_extension": ".py",
   "mimetype": "text/x-python",
   "name": "python",
   "nbconvert_exporter": "python",
   "pygments_lexer": "ipython3",
   "version": "3.9.7"
  }
 },
 "nbformat": 4,
 "nbformat_minor": 5
}
