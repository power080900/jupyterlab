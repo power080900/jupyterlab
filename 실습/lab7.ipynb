{
 "cells": [
  {
   "cell_type": "code",
   "execution_count": null,
   "id": "59735a6d-e044-405a-b6db-e3dce1ccc1ed",
   "metadata": {},
   "outputs": [],
   "source": [
    "gs25 사이트에서 2+1 행사를 진행하는 모든 상품들의 상품명과 가격을 \n",
    "추출하여 gs25_twotoone.csv 에 저장하는 파이썬 코드를 작성하시오. \n",
    "가격에서 , 와 원을 제외하고 숫자만 저장한다.\n",
    "(re 모듈의 sub() 함수 활용 exam1.ipynb 참조)"
   ]
  },
  {
   "cell_type": "code",
   "execution_count": 75,
   "id": "0913dc2d-906d-494f-96b2-5a2cdc1bf863",
   "metadata": {},
   "outputs": [],
   "source": [
    "import requests\n",
    "from bs4 import BeautifulSoup\n",
    "from selenium import webdriver\n",
    "from selenium.webdriver.common.keys import Keys\n",
    "import time\n",
    "\n",
    "driver = webdriver.Chrome('C:/Temp/chromedriver')\n",
    "driver.implicitly_wait(3) \n",
    "driver.get('http://gs25.gsretail.com/gscvs/ko/products/event-goods') \n",
    "time.sleep(2)"
   ]
  },
  {
   "cell_type": "code",
   "execution_count": 82,
   "id": "0c4b61e2-b9c7-4768-a2fe-e4ca02aca0a1",
   "metadata": {},
   "outputs": [],
   "source": [
    "import re\n",
    "\n",
    "twoToOne = driver.find_element_by_css_selector('#TWO_TO_ONE')\n",
    "twoToOne.click()\n",
    "time.sleep(3)\n",
    "\n",
    "goodsname = []\n",
    "goodsprice = []\n",
    "i = 1\n",
    "\n",
    "while True:    \n",
    "    goodslists = driver.find_elements_by_css_selector('#contents > div.cnt > div.cnt_section.mt50 > div > div > div:nth-child(5) > ul > li > div > p.tit') \n",
    "    for gl in goodslists:\n",
    "        goodsname.append(gl.text)\n",
    "    pricelists = driver.find_elements_by_css_selector('#contents > div.cnt > div.cnt_section.mt50 > div > div > div:nth-child(5) > ul > li > div > p.price')\n",
    "    for pl in pricelists:\n",
    "        goodsprice.append(re.sub(\"원\",\"\",re.sub(\",\",\"\",pl.text)))\n",
    "    nextPage = driver.find_element_by_css_selector('div:nth-child(5) > div > a.next') \n",
    "    nextPage.click()\n",
    "    time.sleep(3)\n",
    "    i += 1\n",
    "    if (i == 124):\n",
    "        break"
   ]
  },
  {
   "cell_type": "code",
   "execution_count": 83,
   "id": "d0ad80cb-6b45-4270-b8db-a26d757fa14a",
   "metadata": {},
   "outputs": [],
   "source": [
    "with open('output/gs25_twotoone.csv','wt',encoding='utf-8') as f:\n",
    "    f.write('goodsname,goodsprice\\n')\n",
    "    for i in range(len(goodsprice)):\n",
    "        f.write(goodsname[i]+\",\"+goodsprice[i]+'\\n')  "
   ]
  }
 ],
 "metadata": {
  "kernelspec": {
   "display_name": "Python 3 (ipykernel)",
   "language": "python",
   "name": "python3"
  },
  "language_info": {
   "codemirror_mode": {
    "name": "ipython",
    "version": 3
   },
   "file_extension": ".py",
   "mimetype": "text/x-python",
   "name": "python",
   "nbconvert_exporter": "python",
   "pygments_lexer": "ipython3",
   "version": "3.9.7"
  }
 },
 "nbformat": 4,
 "nbformat_minor": 5
}
