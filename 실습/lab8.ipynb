{
 "cells": [
  {
   "cell_type": "code",
   "execution_count": 9,
   "id": "7f441a23-d50a-4279-b472-085b0b2b4b5e",
   "metadata": {},
   "outputs": [
    {
     "name": "stdout",
     "output_type": "stream",
     "text": [
      "[짜장면 블로그 글 ]\n",
      "1 : 기깔났던 제주공항 근처 <b>짜장면</b> 맛집\n",
      "2 : 양주 덕화원 <b>짜장면</b> 캬~~~\n",
      "3 : 남양주 점심밥집 별내 <b>짜장면</b> 짬뽕 맛집\n",
      "4 : <b>짜장면</b> 만들기 만드는 법 분말로 간짜장 만들기\n",
      "5 : 봉천 맛집 중화요리 팔공 <b>짜장면</b> 짬뽕 드디어!\n"
     ]
    }
   ],
   "source": [
    "import urllib.request\n",
    "import json\n",
    "\n",
    "client_key = '4ZWoBHlJSD5x1MkCdTzn'\n",
    "client_secret = 'ygNgbtSVPi'\n",
    "search = '짜장면'\n",
    "encText = urllib.parse.quote_plus(search)\n",
    "num = 5\n",
    "naver_url = 'https://openapi.naver.com/v1/search/blog.json?query=' + encText + '&display=' + str(num)\n",
    "\n",
    "request = urllib.request.Request(naver_url)\n",
    "request.add_header(\"X-Naver-Client-Id\",client_key)\n",
    "request.add_header(\"X-Naver-Client-Secret\",client_secret)\n",
    "response = urllib.request.urlopen(request)\n",
    "rescode = response.getcode()\n",
    "if(rescode == 200):\n",
    "    response_body = response.read()\n",
    "    dataList = json.loads(response_body)\n",
    "    print('[' + search + ' 블로그 글 ]')\n",
    "    for ct, data in enumerate(dataList['items'], 1) :\n",
    "        print (str(ct) + ' : ' + data['title'])   \n",
    "else:\n",
    "    print('오류 코드 : ' + rescode)"
   ]
  },
  {
   "cell_type": "code",
   "execution_count": 10,
   "id": "652b1773-bed7-4457-a7e6-a8c8cf55bb83",
   "metadata": {},
   "outputs": [
    {
     "name": "stdout",
     "output_type": "stream",
     "text": [
      "[쌀국수 블로그 글 ]\n",
      "1 : 부평 꾸아 가볍게 <b>쌀국수</b> 먹기 좋은 곳\n",
      "2 : 리필되는 깔끔한 <b>쌀국수</b> | 일산 코메야 <b>쌀국수</b>\n",
      "3 : <b>쌀국수</b>가 기가막힌 행궁동 맛집\n",
      "4 : 의정부 <b>쌀국수</b> 스테이크 맛집 / 화화담 (化和談) ♥\n",
      "5 : 고양 삼송 미분당 양지차돌<b>쌀국수</b> 뿌셔뿌셔\n"
     ]
    }
   ],
   "source": [
    "import urllib.request\n",
    "import json\n",
    "\n",
    "client_key = '4ZWoBHlJSD5x1MkCdTzn'\n",
    "client_secret = 'ygNgbtSVPi'\n",
    "search = '쌀국수'\n",
    "encText = urllib.parse.quote_plus(search)\n",
    "num = 5\n",
    "naver_url = 'https://openapi.naver.com/v1/search/blog.json?query=' + encText + '&display=' + str(num)\n",
    "\n",
    "request = urllib.request.Request(naver_url)\n",
    "request.add_header(\"X-Naver-Client-Id\",client_key)\n",
    "request.add_header(\"X-Naver-Client-Secret\",client_secret)\n",
    "response = urllib.request.urlopen(request)\n",
    "rescode = response.getcode()\n",
    "if(rescode == 200):\n",
    "    response_body = response.read()\n",
    "    dataList = json.loads(response_body)\n",
    "    print('[' + search + ' 블로그 글 ]')\n",
    "    for ct, data in enumerate(dataList['items'], 1) :\n",
    "        print (str(ct) + ' : ' + data['title'])   \n",
    "else:\n",
    "    print('오류 코드 : ' + rescode)"
   ]
  }
 ],
 "metadata": {
  "kernelspec": {
   "display_name": "Python 3 (ipykernel)",
   "language": "python",
   "name": "python3"
  },
  "language_info": {
   "codemirror_mode": {
    "name": "ipython",
    "version": 3
   },
   "file_extension": ".py",
   "mimetype": "text/x-python",
   "name": "python",
   "nbconvert_exporter": "python",
   "pygments_lexer": "ipython3",
   "version": "3.9.7"
  }
 },
 "nbformat": 4,
 "nbformat_minor": 5
}
