{
 "cells": [
  {
   "cell_type": "code",
   "execution_count": 2,
   "id": "fcfc212a-54b0-4904-93fd-d4c8bac3aee3",
   "metadata": {},
   "outputs": [],
   "source": [
    "import requests\n",
    "from bs4 import BeautifulSoup\n",
    "from selenium import webdriver\n",
    "from selenium.webdriver.common.keys import Keys\n",
    "\n",
    "driver = webdriver.Chrome('C:/Temp/chromedriver')\n",
    "driver.implicitly_wait(3) \n",
    "driver.get('https://www.megabox.co.kr/movie-detail/comment?rpstMovieNo=21033000') \n",
    "import time\n",
    "time.sleep(2)"
   ]
  },
  {
   "cell_type": "code",
   "execution_count": 51,
   "id": "7d5bc39e-a129-4853-ab3e-652afa314086",
   "metadata": {},
   "outputs": [],
   "source": [
    "score = []\n",
    "genre = []\n",
    "review = []\n",
    "\n",
    "for j in range (1,4):\n",
    "    if (j ==1):\n",
    "        for i in range (2,12):\n",
    "            scores1 = driver.find_elements_by_css_selector('.story-point')\n",
    "            genres1 = driver.find_elements_by_css_selector('.story-recommend')\n",
    "            reviews1 = driver.find_elements_by_css_selector('.story-txt')\n",
    "            time.sleep(2)\n",
    "            for sc in scores1 :    \n",
    "              score.append(sc.text)\n",
    "            for gn in genres1 :    \n",
    "              genre.append(gn.text)\n",
    "            for rv in reviews1 :    \n",
    "              review.append(rv.text)\n",
    "            nextPage = ('#contentData > div > div.movie-idv-story > nav > a:nth-child('+str(i)+')')\n",
    "            linkNum = driver.find_element_by_css_selector(nextPage)\n",
    "            linkNum.click()\n",
    "            time.sleep(2)\n",
    "    else :\n",
    "        for i in range (4,14):\n",
    "            scores2 = driver.find_elements_by_css_selector('.story-point')\n",
    "            genres2 = driver.find_elements_by_css_selector('.story-recommend')\n",
    "            reviews2 = driver.find_elements_by_css_selector('.story-txt')\n",
    "            time.sleep(2)\n",
    "            for sc in scores2 :    \n",
    "              score.append(sc.text)\n",
    "            for gn in genres2 :    \n",
    "              genre.append(gn.text)\n",
    "            for rv in reviews2 :    \n",
    "              review.append(rv.text)\n",
    "            nextPage = ('#contentData > div > div.movie-idv-story > nav > a:nth-child('+str(i)+')')\n",
    "            linkNum = driver.find_element_by_css_selector(nextPage)\n",
    "            linkNum.click()\n",
    "            time.sleep(2)"
   ]
  },
  {
   "cell_type": "code",
   "execution_count": 3,
   "id": "c040c91f-9e17-43d5-8090-7f10fe88f05c",
   "metadata": {},
   "outputs": [
    {
     "name": "stdout",
     "output_type": "stream",
     "text": [
      "[<selenium.webdriver.remote.webelement.WebElement (session=\"1bfa05b767217beb0edfb7b75602d570\", element=\"eb01416d-55bf-458b-b5aa-851c71641654\")>, <selenium.webdriver.remote.webelement.WebElement (session=\"1bfa05b767217beb0edfb7b75602d570\", element=\"16517d0e-4437-4ad5-b4b9-3fc9a4c5147d\")>, <selenium.webdriver.remote.webelement.WebElement (session=\"1bfa05b767217beb0edfb7b75602d570\", element=\"ba40ca54-8363-42df-9126-2ebc354ca717\")>, <selenium.webdriver.remote.webelement.WebElement (session=\"1bfa05b767217beb0edfb7b75602d570\", element=\"a9fa20c7-d95c-450f-8dd1-e9491740483b\")>, <selenium.webdriver.remote.webelement.WebElement (session=\"1bfa05b767217beb0edfb7b75602d570\", element=\"ef0f4627-639d-4ff7-8c0e-f7743aa3f266\")>, <selenium.webdriver.remote.webelement.WebElement (session=\"1bfa05b767217beb0edfb7b75602d570\", element=\"d8ddd4b8-97fb-45a3-8d87-9241cd4eae61\")>, <selenium.webdriver.remote.webelement.WebElement (session=\"1bfa05b767217beb0edfb7b75602d570\", element=\"de8504b1-fe68-4e81-ae77-9833b32457d6\")>, <selenium.webdriver.remote.webelement.WebElement (session=\"1bfa05b767217beb0edfb7b75602d570\", element=\"f54c6958-e7af-4342-b86f-a896579448f8\")>, <selenium.webdriver.remote.webelement.WebElement (session=\"1bfa05b767217beb0edfb7b75602d570\", element=\"f88a4472-10ae-4e68-b0c7-17d74d82e35a\")>, <selenium.webdriver.remote.webelement.WebElement (session=\"1bfa05b767217beb0edfb7b75602d570\", element=\"8ea052bc-84ee-48f3-8d9b-2ac1cb02aab9\")>]\n"
     ]
    }
   ],
   "source": []
  },
  {
   "cell_type": "code",
   "execution_count": 52,
   "id": "8138f6be-4575-41d2-86e7-5dddb45d89d9",
   "metadata": {},
   "outputs": [],
   "source": [
    "with open('output/movie.csv','wt',encoding='utf-8') as f:\n",
    "    f.write('score,genre,review\\n')\n",
    "    for i in range(len(review)):\n",
    "        f.write(score[i]+\",\"+genre[i]+\",\"+review[i]+'\\n')  "
   ]
  }
 ],
 "metadata": {
  "kernelspec": {
   "display_name": "Python 3 (ipykernel)",
   "language": "python",
   "name": "python3"
  },
  "language_info": {
   "codemirror_mode": {
    "name": "ipython",
    "version": 3
   },
   "file_extension": ".py",
   "mimetype": "text/x-python",
   "name": "python",
   "nbconvert_exporter": "python",
   "pygments_lexer": "ipython3",
   "version": "3.9.7"
  }
 },
 "nbformat": 4,
 "nbformat_minor": 5
}
