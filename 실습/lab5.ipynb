{
 "cells": [
  {
   "cell_type": "code",
   "execution_count": null,
   "id": "7109168d-e510-4f27-aa29-90adc7708951",
   "metadata": {},
   "outputs": [],
   "source": [
    "Selenium을 이용하여 크롬 브라우저를 기동시키고 \n",
    "네이버 홈 페이지에서 파이썬 이라는 검색어를 전달하여 \n",
    "검색요청하는 과정을 구현해 본다. \n",
    "이 때 검색어를 입력하려면 \n",
    "검색어 입력상자의 WebElement 객체를 찾아야 하는데 \n",
    "이 때 다음에 제시한 3가지 방법으로 각각 구현하여 메일로 제출한다.\n",
    "- CSS 선택자 사용 : 첫 번째 셀\n",
    "- id 속성 사용 : 두 번째 셀  \n",
    "- class 속성 사용 : 세 번째 셀\n"
   ]
  },
  {
   "cell_type": "code",
   "execution_count": 3,
   "id": "aef0136e-61c6-40c1-9385-bbe5c0953a1f",
   "metadata": {},
   "outputs": [],
   "source": [
    "from selenium import webdriver\n",
    "from selenium.webdriver.common.keys import Keys \n",
    "\n",
    "driver = webdriver.Chrome('C:/Temp/chromedriver')\n",
    "driver.implicitly_wait(3) \n",
    "driver.get('https://naver.com/') \n",
    "import time\n",
    "time.sleep(2)\n"
   ]
  },
  {
   "cell_type": "code",
   "execution_count": 9,
   "id": "556cdba1-d3b4-4598-b213-67c9b9a66c87",
   "metadata": {},
   "outputs": [],
   "source": [
    "target1=driver.find_element_by_css_selector(\"fieldset > div > input\")\n",
    "target1.send_keys('파이썬')\n",
    "target1.send_keys(Keys.ENTER)"
   ]
  },
  {
   "cell_type": "code",
   "execution_count": 11,
   "id": "8bbfcd6f-461a-4de3-8232-cfe181c943ad",
   "metadata": {},
   "outputs": [],
   "source": [
    "target2=driver.find_element_by_css_selector(\"#query\")\n",
    "target2.send_keys('파이썬')\n",
    "target2.send_keys(Keys.ENTER)"
   ]
  },
  {
   "cell_type": "code",
   "execution_count": 12,
   "id": "a272c5fe-bda5-4fc9-8162-2111d257d3f9",
   "metadata": {},
   "outputs": [],
   "source": [
    "target3=driver.find_element_by_css_selector(\".input_text\")\n",
    "target3.send_keys('파이썬')\n",
    "target3.send_keys(Keys.ENTER)"
   ]
  }
 ],
 "metadata": {
  "kernelspec": {
   "display_name": "Python 3 (ipykernel)",
   "language": "python",
   "name": "python3"
  },
  "language_info": {
   "codemirror_mode": {
    "name": "ipython",
    "version": 3
   },
   "file_extension": ".py",
   "mimetype": "text/x-python",
   "name": "python",
   "nbconvert_exporter": "python",
   "pygments_lexer": "ipython3",
   "version": "3.9.7"
  }
 },
 "nbformat": 4,
 "nbformat_minor": 5
}
