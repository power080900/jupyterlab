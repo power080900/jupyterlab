{
 "cells": [
  {
   "cell_type": "code",
   "execution_count": 4,
   "id": "5a675fab-ab39-46fb-9c46-4dbe7fb47249",
   "metadata": {},
   "outputs": [
    {
     "name": "stdout",
     "output_type": "stream",
     "text": [
      "1.\n",
      "<class 'pandas.core.series.Series'>\n",
      "0    10\n",
      "1    20\n",
      "2    30\n",
      "3    40\n",
      "4    50\n",
      "dtype: int64\n"
     ]
    }
   ],
   "source": [
    "import pandas as pd\n",
    "\n",
    "series1 = { 0:10, 1:20, 2:30, 3:40, 4:50}\n",
    "sr1 = pd.Series(series1)\n",
    "\n",
    "print(\"1.\")\n",
    "print(type(sr1))\n",
    "print(sr1)"
   ]
  },
  {
   "cell_type": "code",
   "execution_count": 7,
   "id": "e61f3028-f2a0-4bdd-93a2-e9f063edad8f",
   "metadata": {},
   "outputs": [
    {
     "name": "stdout",
     "output_type": "stream",
     "text": [
      "2.\n",
      "<class 'pandas.core.series.Series'>\n",
      "a    1\n",
      "b    2\n",
      "c    3\n",
      "d    4\n",
      "e    5\n",
      "dtype: int64\n"
     ]
    }
   ],
   "source": [
    "series2 = { 'a':1, 'b':2, 'c':3, 'd':4, 'e':5}\n",
    "sr2 = pd.Series(series2)\n",
    "\n",
    "print(\"2.\")\n",
    "print(type(sr2))\n",
    "print(sr2)"
   ]
  },
  {
   "cell_type": "code",
   "execution_count": 8,
   "id": "82734326-95dd-4b33-9e8e-bba4ed330b59",
   "metadata": {},
   "outputs": [
    {
     "name": "stdout",
     "output_type": "stream",
     "text": [
      "3.\n",
      "<class 'pandas.core.series.Series'>\n",
      "학생1     둘리\n",
      "학생2     또치\n",
      "학생3    도우너\n",
      "학생4    희동이\n",
      "학생5    마이콜\n",
      "dtype: object\n"
     ]
    }
   ],
   "source": [
    "series3 = { '학생1':'둘리', '학생2':'또치', '학생3':'도우너', '학생4':'희동이', '학생5':'마이콜'}\n",
    "sr3 = pd.Series(series3)\n",
    "\n",
    "print(\"3.\")\n",
    "print(type(sr3))\n",
    "print(sr3)"
   ]
  },
  {
   "cell_type": "code",
   "execution_count": 12,
   "id": "aa26f339-3e6f-4f60-b8eb-d780ffc05081",
   "metadata": {},
   "outputs": [
    {
     "name": "stdout",
     "output_type": "stream",
     "text": [
      "4.\n",
      "<class 'pandas.core.series.Series'>\n",
      "학생1     둘리\n",
      "학생2     또치\n",
      "학생3    도우너\n",
      "학생4    희동이\n",
      "학생5    마이콜\n",
      "dtype: object\n"
     ]
    }
   ],
   "source": [
    "series4 =  ['둘리','또치','도우너','희동이','마이콜']\n",
    "sr4 = pd.Series(series4)\n",
    "sr4.index = ['학생1','학생2','학생3','학생4','학생5']\n",
    "\n",
    "print(\"4.\")\n",
    "print(type(sr4))\n",
    "print(sr4)"
   ]
  },
  {
   "cell_type": "code",
   "execution_count": 13,
   "id": "c5868ffc-0aef-4f46-a77d-078153e6cb2c",
   "metadata": {},
   "outputs": [
    {
     "name": "stdout",
     "output_type": "stream",
     "text": [
      "5.\n",
      "[시리즈 sr 출력]\n",
      "A형     34.2\n",
      "B형     27.1\n",
      "O형     26.7\n",
      "AB형    11.5\n",
      "dtype: float64\n",
      "[시리즈 sr에서 인덱싱과 슬라이싱하여 출력(숫자인덱스 사용)]\n",
      "34.2\n",
      "11.5\n",
      "27.1\n",
      "B형     27.1\n",
      "O형     26.7\n",
      "AB형    11.5\n",
      "dtype: float64\n",
      "[시리즈 sr에서 인덱싱과 슬라이싱하여 출력(이름인덱스 사용)]\n",
      "34.2\n",
      "11.5\n",
      "27.1\n",
      "B형     27.1\n",
      "O형     26.7\n",
      "AB형    11.5\n",
      "dtype: float64\n",
      "[시리즈 sr의 크기 출력]\n",
      "4\n",
      "[시리즈 sr의 인덱스 출력]\n",
      "Index(['A형', 'B형', 'O형', 'AB형'], dtype='object')\n",
      "[시리즈 sr의 데이터 값 출력]\n",
      "[34.2 27.1 26.7 11.5]\n"
     ]
    }
   ],
   "source": [
    "blood = ['A형', 'B형', 'O형', 'AB형']\n",
    "st = [34.2, 27.1, 26.7, 11.5]\n",
    "sr5 = pd.Series(st, index=blood)\n",
    "\n",
    "print(\"5.\")\n",
    "print(\"[시리즈 sr 출력]\")\n",
    "print(sr5)\n",
    "print(\"[시리즈 sr에서 인덱싱과 슬라이싱하여 출력(숫자인덱스 사용)]\")\n",
    "print(sr5[0])\n",
    "print(sr5[3])\n",
    "print(sr5[1])\n",
    "print(sr5[1:4])\n",
    "print(\"[시리즈 sr에서 인덱싱과 슬라이싱하여 출력(이름인덱스 사용)]\")\n",
    "print(sr5['A형'])\n",
    "print(sr5['AB형'])\n",
    "print(sr5['B형'])\n",
    "print(sr5[['B형','O형','AB형']])\n",
    "print(\"[시리즈 sr의 크기 출력]\")\n",
    "print(sr5.size)\n",
    "print(\"[시리즈 sr의 인덱스 출력]\")\n",
    "print(sr5.index)\n",
    "print(\"[시리즈 sr의 데이터 값 출력]\")\n",
    "print(sr5.values)"
   ]
  },
  {
   "cell_type": "code",
   "execution_count": 33,
   "id": "5acea670-215d-46ab-a63a-4acd6c570ab8",
   "metadata": {},
   "outputs": [
    {
     "name": "stdout",
     "output_type": "stream",
     "text": [
      "6.\n",
      "<class 'pandas.core.frame.DataFrame'>\n",
      "  name  kor  eng  mat\n",
      "0   둘리   90   99   90\n",
      "1   또치   80   98   70\n",
      "2  도우너   70   97   70\n",
      "3  희동이   70   46   60\n"
     ]
    }
   ],
   "source": [
    "df1 = pd.DataFrame([['둘리', 90, 99,90], ['또치', 80,98,70],['도우너',70,97,70],['희동이',70,46,60]],\n",
    "                   columns=['name', 'kor', 'eng','mat'])\n",
    "print(\"6.\")\n",
    "print(type(df1))\n",
    "print(df1)"
   ]
  },
  {
   "cell_type": "code",
   "execution_count": 34,
   "id": "5cc4d946-fe1a-4dcc-a3d3-cee543f677db",
   "metadata": {},
   "outputs": [
    {
     "name": "stdout",
     "output_type": "stream",
     "text": [
      "7.\n",
      "<class 'pandas.core.frame.DataFrame'>\n",
      "    name  kor  eng  mat\n",
      "학생1   둘리   90   99   90\n",
      "학생2   또치   80   98   70\n",
      "학생3  도우너   70   97   70\n",
      "학생4  희동이   70   46   60\n"
     ]
    }
   ],
   "source": [
    "df2 = pd.DataFrame([['둘리', 90, 99,90], ['또치', 80,98,70],['도우너',70,97,70],['희동이',70,46,60]], \n",
    "                   index=['학생1', '학생2','학생3','학생4'],\n",
    "                   columns=['name', 'kor', 'eng','mat'])\n",
    "print(\"7.\")\n",
    "print(type(df2))\n",
    "print(df2)"
   ]
  },
  {
   "cell_type": "code",
   "execution_count": 36,
   "id": "7e6bb9fc-b87c-41e8-9590-7a39c0421f9c",
   "metadata": {},
   "outputs": [
    {
     "name": "stdout",
     "output_type": "stream",
     "text": [
      "8.\n",
      "<class 'pandas.core.frame.DataFrame'>\n",
      "    dooly  doochi  dounar  heedong\n",
      "st1    둘리      90      99       90\n",
      "st2    또치      80      98       70\n",
      "st3   도우너      70      97       70\n",
      "st4   희동이      70      46       60\n"
     ]
    }
   ],
   "source": [
    "df3 = pd.DataFrame([['둘리', 90, 99,90], ['또치', 80,98,70],['도우너',70,97,70],['희동이',70,46,60]], \n",
    "                   index=['st1', 'st2','st3','st4'],\n",
    "                   columns=['dooly', 'doochi', 'dounar','heedong'])\n",
    "print(\"8.\")\n",
    "print(type(df3))\n",
    "print(df3)"
   ]
  },
  {
   "cell_type": "code",
   "execution_count": 98,
   "id": "3d777818-a215-4a2f-9736-9bc4cf28876b",
   "metadata": {},
   "outputs": [
    {
     "name": "stdout",
     "output_type": "stream",
     "text": [
      "9.\n",
      "  name  kor  eng  mat\n",
      "0  듀크1   90   99   90\n",
      "1  듀크2   80   98   70\n",
      "2  듀크3   70   97   70\n",
      "3  듀크4   70   46   60\n",
      "4  듀크5   60   77   88\n",
      "  name  kor  eng  mat\n",
      "2  듀크3   70   97   70\n",
      "3  듀크4   70   46   60\n",
      "4  듀크5   60   77   88\n",
      "5  듀크6   70   56   99\n",
      "6  듀크7   90   90   90\n",
      "Index(['name', 'kor', 'eng', 'mat'], dtype='object')\n",
      "0    듀크1\n",
      "1    듀크2\n",
      "2    듀크3\n",
      "3    듀크4\n",
      "4    듀크5\n",
      "5    듀크6\n",
      "6    듀크7\n",
      "Name: name, dtype: object\n",
      "0    99\n",
      "1    98\n",
      "2    97\n",
      "3    46\n",
      "4    77\n",
      "5    56\n",
      "6    90\n",
      "Name: eng, dtype: int64\n",
      "   kor  mat\n",
      "0   90   90\n",
      "1   80   70\n",
      "2   70   70\n",
      "3   70   60\n",
      "4   60   88\n",
      "5   70   99\n",
      "6   90   90\n",
      "iloc함수 활용------------\n",
      "name    듀크4\n",
      "kor      70\n",
      "eng      46\n",
      "mat      60\n",
      "Name: 3, dtype: object\n",
      "듀크1\n",
      "46\n",
      "   eng\n",
      "2   97\n",
      "3   46\n",
      "   eng  mat\n",
      "2   97   70\n",
      "3   46   60\n",
      "loc함수 활용------------\n",
      "name    듀크4\n",
      "kor      70\n",
      "eng      46\n",
      "mat      60\n",
      "Name: 3, dtype: object\n",
      "듀크1\n",
      "46\n",
      "2    97\n",
      "3    46\n",
      "Name: eng, dtype: int64\n",
      "   eng  mat\n",
      "2   97   70\n",
      "3   46   60\n"
     ]
    }
   ],
   "source": [
    "data = {\n",
    "    'name':['듀크1', '듀크2', '듀크3', '듀크4', '듀크5', \n",
    "           '듀크6', '듀크7'],\n",
    "    'kor':[90, 80, 70, 70, 60, 70, 90],\n",
    "    'eng':[99, 98, 97, 46, 77, 56, 90],\n",
    "    'mat':[90, 70, 70, 60, 88, 99, 90],\n",
    "}\n",
    "df4 = pd.DataFrame(data)\n",
    "\n",
    "print(\"9.\")\n",
    "print(df4.head())\n",
    "print(df4.tail())\n",
    "print(df4.columns)\n",
    "print(df4['name'])\n",
    "print(df4['eng'])\n",
    "print(df4[['kor','mat']])\n",
    "print('iloc함수 활용------------')\n",
    "print(df4.iloc[3])\n",
    "print(df4.iloc[0,0])\n",
    "print(df4.iloc[3,2])\n",
    "print(df4.iloc[[2,3],[2]])\n",
    "print(df4.iloc[[2,3],[2,3]])\n",
    "print('loc함수 활용------------')\n",
    "print(df4.loc[3])\n",
    "print(df4.loc[0][0])\n",
    "print(df4.loc[3][2])\n",
    "print(df4.loc[2:3,'eng'])\n",
    "print(df4.loc[2:3,'eng':'mat'])"
   ]
  },
  {
   "cell_type": "code",
   "execution_count": 104,
   "id": "cb9d2560-aae9-4fde-9dce-de080304b933",
   "metadata": {},
   "outputs": [
    {
     "name": "stdout",
     "output_type": "stream",
     "text": [
      "      kor  eng  mat\n",
      "name               \n",
      "듀크1    90   99   90\n",
      "듀크2    80   98   70\n",
      "듀크3    70   97   70\n",
      "듀크4    70   46   60\n",
      "듀크5    60   77   88\n",
      "듀크6    70   56   99\n",
      "듀크7    90   90   90\n"
     ]
    }
   ],
   "source": [
    "data = {\n",
    "    'name':['듀크1', '듀크2', '듀크3', '듀크4', '듀크5', \n",
    "           '듀크6', '듀크7'],\n",
    "    'kor':[90, 80, 70, 70, 60, 70, 90],\n",
    "    'eng':[99, 98, 97, 46, 77, 56, 90],\n",
    "    'mat':[90, 70, 70, 60, 88, 99, 90],\n",
    "}\n",
    "df5 = pd.DataFrame(data)\n",
    "df5.set_index('name',inplace=True)\n",
    "print(df5)"
   ]
  }
 ],
 "metadata": {
  "kernelspec": {
   "display_name": "Python 3 (ipykernel)",
   "language": "python",
   "name": "python3"
  },
  "language_info": {
   "codemirror_mode": {
    "name": "ipython",
    "version": 3
   },
   "file_extension": ".py",
   "mimetype": "text/x-python",
   "name": "python",
   "nbconvert_exporter": "python",
   "pygments_lexer": "ipython3",
   "version": "3.9.7"
  }
 },
 "nbformat": 4,
 "nbformat_minor": 5
}
