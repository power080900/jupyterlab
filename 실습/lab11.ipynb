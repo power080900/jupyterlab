{
 "cells": [
  {
   "cell_type": "code",
   "execution_count": 2,
   "id": "4421ea0c-a36f-4c40-8ed8-272a49b0a82b",
   "metadata": {},
   "outputs": [
    {
     "name": "stdout",
     "output_type": "stream",
     "text": [
      "1.\n",
      "컬럼명: Index(['name', 'kor', 'eng', 'mat', 'total', 'avg'], dtype='object')\n",
      "인덱스: RangeIndex(start=0, stop=5, step=1)\n",
      "  name  kor  eng  mat  total        avg\n",
      "0   둘리   90   90   90    270  90.000000\n",
      "1   또치   80   80   80    240  80.000000\n",
      "2  도우너   70   70   70    210  70.000000\n",
      "3  희동이   90   80   70    240  80.000000\n",
      "4  마이콜   60   50   50    160  53.333333\n"
     ]
    }
   ],
   "source": [
    "import pandas as pd\n",
    "\n",
    "df1 = pd.read_csv('./data/score.csv')\n",
    "\n",
    "print(\"1.\")\n",
    "df1['total'] = df1['kor']+df1['eng']+df1['mat']\n",
    "df1['avg'] = df1['total']/3\n",
    "\n",
    "print(\"컬럼명:\",df1.columns)\n",
    "print(\"인덱스:\",df1.index)\n",
    "print(df1)"
   ]
  },
  {
   "cell_type": "code",
   "execution_count": 41,
   "id": "c3463870-0597-4dac-9cbd-ddc7cb1d2d49",
   "metadata": {},
   "outputs": [
    {
     "name": "stdout",
     "output_type": "stream",
     "text": [
      "2.\n",
      "     0   1   2   3\n",
      "0   둘리  90  90  90\n",
      "1   또치  80  80  80\n",
      "2  도우너  70  70  70\n",
      "3  희동이  90  80  70\n",
      "4  마이콜  60  50  50\n",
      "컬럼명: Int64Index([0, 1, 2, 3], dtype='int64')\n",
      "인덱스: RangeIndex(start=0, stop=5, step=1)\n",
      "컬럼명 추가 ----------\n",
      "컬럼명: Index(['name', 'kor', 'eng', 'mat'], dtype='object')\n",
      "  name  kor  eng  mat\n",
      "0   둘리   90   90   90\n",
      "1   또치   80   80   80\n",
      "2  도우너   70   70   70\n",
      "3  희동이   90   80   70\n",
      "4  마이콜   60   50   50\n",
      "total과 avg열 추가 -------------\n",
      "  name  kor  eng  mat  total        avg\n",
      "0   둘리   90   90   90    270  90.000000\n",
      "1   또치   80   80   80    240  80.000000\n",
      "2  도우너   70   70   70    210  70.000000\n",
      "3  희동이   90   80   70    240  80.000000\n",
      "4  마이콜   60   50   50    160  53.333333\n"
     ]
    }
   ],
   "source": [
    "df2 = pd.read_csv('./data/score_noheader.csv', header=None)\n",
    "\n",
    "print(\"2.\")\n",
    "print(df2)\n",
    "print(\"컬럼명:\",df2.columns)\n",
    "print(\"인덱스:\",df2.index)\n",
    "print(\"컬럼명 추가 ----------\")\n",
    "df3 = df2\n",
    "\n",
    "df3.columns = ['name','kor','eng','mat']\n",
    "print(\"컬럼명:\",df3.columns)\n",
    "print(df3)\n",
    "print(\"total과 avg열 추가 -------------\")\n",
    "df3['total'] = df3['kor']+df3['eng']+df3['mat']\n",
    "df3['avg'] = df3['total']/3\n",
    "print(df3)"
   ]
  },
  {
   "cell_type": "code",
   "execution_count": 28,
   "id": "c0fe501e-4bb8-46b0-aaab-fbdcd343d36e",
   "metadata": {},
   "outputs": [
    {
     "name": "stdout",
     "output_type": "stream",
     "text": [
      "  name  kor  eng  mat\n",
      "4   둘리   90   90   90\n",
      "5   또치   80   80   80\n",
      "6  도우너   70   70   70\n",
      "7  희동이   90   80   70\n",
      "8  마이콜   60   50   50\n",
      "컬럼명: Index(['name', 'kor', 'eng', 'mat', 'total', 'avg'], dtype='object')\n",
      "인덱스: RangeIndex(start=4, stop=9, step=1)\n",
      "  name  kor  eng  mat  total        avg\n",
      "4   둘리   90   90   90    270  90.000000\n",
      "5   또치   80   80   80    240  80.000000\n",
      "6  도우너   70   70   70    210  70.000000\n",
      "7  희동이   90   80   70    240  80.000000\n",
      "8  마이콜   60   50   50    160  53.333333\n"
     ]
    }
   ],
   "source": [
    "df4 = pd.read_csv('./data/score_header.csv', header=None)\n",
    "\n",
    "df5 = pd.DataFrame(df4.iloc[4:9])\n",
    "\n",
    "print(\"3.\")\n",
    "df5.columns = ('name','kor','eng','mat')\n",
    "df5 = df5.astype({'kor':'int','eng':'int','mat':'int'})\n",
    "print(df5)\n",
    "df5.loc[:,'total'] = df5['kor']+df5['eng']+df5['mat']\n",
    "df5.loc[:,'avg'] = df5['total']/3\n",
    "print(\"컬럼명:\",df5.columns)\n",
    "print(\"인덱스:\",df5.index)\n",
    "print(df5)\n",
    "df5.to_csv(\"./output/score_result.csv\",index=False,header=False)"
   ]
  },
  {
   "cell_type": "code",
   "execution_count": 33,
   "id": "28d828ec-954c-4cc9-a05d-b1f29525ea7d",
   "metadata": {},
   "outputs": [
    {
     "name": "stdout",
     "output_type": "stream",
     "text": [
      ".4\n",
      "  name  kor  eng  mat\n",
      "0   둘리   90   90   90\n",
      "1   또치   80   80   80\n",
      "2  도우너   70   70   70\n",
      "3  희동이   90   80   70\n",
      "4  마이콜   60   50   50\n",
      "5  고길동   90   90    0\n",
      "  name  kor  eng  mat  total        avg\n",
      "0   둘리   90   90   90    270  90.000000\n",
      "1   또치   80   80   80    240  80.000000\n",
      "2  도우너   70   70   70    210  70.000000\n",
      "3  희동이   90   80   70    240  80.000000\n",
      "4  마이콜   60   50   50    160  53.333333\n",
      "5  고길동   90   90    0    180  60.000000\n"
     ]
    }
   ],
   "source": [
    "df6 = pd.read_excel('./data/score.xlsx')\n",
    "print(\".4\")\n",
    "print(df6)\n",
    "df6.loc[:,'total'] = df6['kor']+df6['eng']+df6['mat']\n",
    "df6.loc[:,'avg'] = df6['total']/3\n",
    "print(df6)\n",
    "df6.to_excel(\"./output/score_result1.xlsx\",index=True,header=True)\n",
    "df6.to_excel(\"./output/score_result2.xlsx\",index=False,header=True)"
   ]
  },
  {
   "cell_type": "code",
   "execution_count": 35,
   "id": "486b3860-4265-47a7-b2f2-0646adc8e817",
   "metadata": {},
   "outputs": [
    {
     "name": "stdout",
     "output_type": "stream",
     "text": [
      "기본정보보기\n",
      "<class 'pandas.core.frame.DataFrame'>\n",
      "RangeIndex: 24 entries, 0 to 23\n",
      "Data columns (total 4 columns):\n",
      " #   Column  Non-Null Count  Dtype\n",
      "---  ------  --------------  -----\n",
      " 0   year    24 non-null     int64\n",
      " 1   item1   24 non-null     int64\n",
      " 2   item2   24 non-null     int64\n",
      " 3   item3   24 non-null     int64\n",
      "dtypes: int64(4)\n",
      "memory usage: 896.0 bytes\n",
      "None\n",
      "앞에서 5개만 미리 보기\n",
      "   year  item1  item2  item3\n",
      "0  1990     95     20     15\n",
      "1  1991     65     10     35\n",
      "2  1992     45     30     90\n",
      "3  1993     10     40     70\n",
      "4  1994     22     50     50\n",
      "뒤에서 5개만 미리 보기\n",
      "    year  item1  item2  item3\n",
      "19  2009     99     90     70\n",
      "20  2010     75     85     45\n",
      "21  2011     22     42     22\n",
      "22  2012     63     13     30\n",
      "23  2013     80     40     90\n",
      "앞에서 10개만 미리 보기\n",
      "   year  item1  item2  item3\n",
      "0  1990     95     20     15\n",
      "1  1991     65     10     35\n",
      "2  1992     45     30     90\n",
      "3  1993     10     40     70\n",
      "4  1994     22     50     50\n",
      "5  1995     35     70     30\n",
      "6  1996     40     80     25\n",
      "7  1997     25     90     75\n",
      "8  1998     15     57     95\n",
      "9  1999     45     79     33\n",
      "(24, 4)\n",
      "행의 개수: 24 , 열의 개수: 4\n"
     ]
    }
   ],
   "source": [
    "df6 = pd.read_json('./data/mydata.json')\n",
    "print(\"기본정보보기\")\n",
    "print(df6.info())\n",
    "print(\"앞에서 5개만 미리 보기\")\n",
    "print(df6.head())\n",
    "print(\"뒤에서 5개만 미리 보기\")\n",
    "print(df6.tail())\n",
    "print(\"앞에서 10개만 미리 보기\")\n",
    "print(df6.head(10))\n",
    "print(df6.shape)\n",
    "print(\"행의 개수:\",df6.shape[0],\", 열의 개수:\",df6.shape[1])"
   ]
  },
  {
   "cell_type": "code",
   "execution_count": 41,
   "id": "bf7b96ed-eb71-45e0-a7e4-e03c00ed8a2e",
   "metadata": {},
   "outputs": [
    {
     "name": "stdout",
     "output_type": "stream",
     "text": [
      "앞에서 3개만 보기\n",
      "    mpg  cylinders  displacement  horsepower  weight  acceleration  model-year\n",
      "0  18.0          8         307.0       130.0    3504          12.0          70\n",
      "1  15.0          8         350.0       165.0    3693          11.5          70\n",
      "2  18.0          8         318.0       150.0    3436          11.0          70\n",
      "(398, 7)\n",
      "행의 개수  398\n",
      "열의 개수  7\n",
      "기술통계정보 요약\n",
      "              mpg   cylinders  displacement  horsepower       weight  \\\n",
      "count  398.000000  398.000000    398.000000  396.000000   398.000000   \n",
      "mean    23.514573    5.454774    193.425879  104.189394  2970.424623   \n",
      "std      7.815984    1.701004    104.269838   38.402030   846.841774   \n",
      "min      9.000000    3.000000     68.000000   46.000000  1613.000000   \n",
      "25%     17.500000    4.000000    104.250000   75.000000  2223.750000   \n",
      "50%     23.000000    4.000000    148.500000   92.000000  2803.500000   \n",
      "75%     29.000000    8.000000    262.000000  125.000000  3608.000000   \n",
      "max     46.600000    8.000000    455.000000  230.000000  5140.000000   \n",
      "\n",
      "       acceleration  model-year  \n",
      "count    398.000000  398.000000  \n",
      "mean      15.568090   76.010050  \n",
      "std        2.757689    3.697627  \n",
      "min        8.000000   70.000000  \n",
      "25%       13.825000   73.000000  \n",
      "50%       15.500000   76.000000  \n",
      "75%       17.175000   79.000000  \n",
      "max       24.800000   82.000000  \n"
     ]
    }
   ],
   "source": [
    "df7 = pd.read_csv('./data/mpgdata.csv')\n",
    "\n",
    "print(\"앞에서 3개만 보기\")\n",
    "print(df7.head(3))\n",
    "print(df7.shape)\n",
    "print(\"행의 개수 \",df7.shape[0])\n",
    "print(\"열의 개수 \",df7.shape[1])\n",
    "print(\"기술통계정보 요약\")\n",
    "print(df7.describe())"
   ]
  }
 ],
 "metadata": {
  "kernelspec": {
   "display_name": "Python 3 (ipykernel)",
   "language": "python",
   "name": "python3"
  },
  "language_info": {
   "codemirror_mode": {
    "name": "ipython",
    "version": 3
   },
   "file_extension": ".py",
   "mimetype": "text/x-python",
   "name": "python",
   "nbconvert_exporter": "python",
   "pygments_lexer": "ipython3",
   "version": "3.9.7"
  }
 },
 "nbformat": 4,
 "nbformat_minor": 5
}
