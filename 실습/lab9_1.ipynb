{
 "cells": [
  {
   "cell_type": "markdown",
   "id": "dc92bd4b-92ba-4391-9802-e0306e44c741",
   "metadata": {},
   "source": [
    "### Pandas 실습 1"
   ]
  },
  {
   "cell_type": "code",
   "execution_count": 2,
   "id": "628f2796-8097-4805-9a86-f287330e8223",
   "metadata": {},
   "outputs": [
    {
     "name": "stdout",
     "output_type": "stream",
     "text": [
      "<class 'pandas.core.series.Series'>\n",
      "0    10\n",
      "1    20\n",
      "2    30\n",
      "3    40\n",
      "4    50\n",
      "dtype: int64\n"
     ]
    }
   ],
   "source": [
    "import pandas as pd\n",
    "# (1) 다음의 결과내용으로 참조하여 Series를 생성하고 동일하게 출력한다.\n",
    "sr = pd.Series(range(10, 60, 10))\n",
    "print(type(sr))\n",
    "print(sr)"
   ]
  },
  {
   "cell_type": "code",
   "execution_count": 3,
   "id": "0ddb0a58-e7fd-4422-9f8a-31f7d4e00739",
   "metadata": {},
   "outputs": [
    {
     "name": "stdout",
     "output_type": "stream",
     "text": [
      "<class 'pandas.core.series.Series'>\n",
      "a    1\n",
      "b    2\n",
      "c    3\n",
      "d    4\n",
      "e    5\n",
      "dtype: int64\n"
     ]
    }
   ],
   "source": [
    "# (2) 다음의 결과내용으로 참조하여 Series를 생성하고 동일하게 출력한다.\n",
    "sr = pd.Series(range(1, 6), index = [\"a\", \"b\", \"c\", \"d\", \"e\"])\n",
    "print(type(sr))\n",
    "print(sr)"
   ]
  },
  {
   "cell_type": "code",
   "execution_count": 4,
   "id": "6d829dcd-1a03-412e-9937-b2138004686a",
   "metadata": {},
   "outputs": [
    {
     "name": "stdout",
     "output_type": "stream",
     "text": [
      "<class 'pandas.core.series.Series'>\n",
      "학생1     둘리\n",
      "학생2     또치\n",
      "학생3    도우너\n",
      "학생4    회동이\n",
      "학생5    마이콜\n",
      "dtype: object\n"
     ]
    }
   ],
   "source": [
    "# (3) 다음의 결과내용으로 참조하여 Series를 생성하고 동일하게 출력한다.(딕셔너리로 생성)\n",
    "dict_data = {\"학생1\": \"둘리\", \n",
    "             \"학생2\": \"또치\",\n",
    "             \"학생3\": \"도우너\",\n",
    "             \"학생4\": \"회동이\",\n",
    "             \"학생5\": \"마이콜\"}\n",
    "sr = pd.Series(dict_data)\n",
    "print(type(sr))\n",
    "print(sr)"
   ]
  },
  {
   "cell_type": "code",
   "execution_count": 5,
   "id": "329ca56f-7cca-44b7-9032-92f39cc8da4f",
   "metadata": {},
   "outputs": [
    {
     "name": "stdout",
     "output_type": "stream",
     "text": [
      "<class 'pandas.core.series.Series'>\n",
      "학생1     둘리\n",
      "학생2     또치\n",
      "학생3    도우너\n",
      "학생4    희동이\n",
      "학생5    마이콜\n",
      "dtype: object\n"
     ]
    }
   ],
   "source": [
    "# (4) 다음의 결과내용으로 참조하여 Series를 생성하고 동일하게 출력한다.(리스트로 생성)\n",
    "list_data = [\"둘리\", \"또치\", \"도우너\", \"희동이\", \"마이콜\"]\n",
    "sr = pd.Series(list_data, index = [\"학생1\", \"학생2\", \"학생3\", \"학생4\", \"학생5\"])\n",
    "print(type(sr))\n",
    "print(sr)"
   ]
  },
  {
   "cell_type": "code",
   "execution_count": 6,
   "id": "a3b36cc5-6778-4e7c-b27b-553886d78deb",
   "metadata": {},
   "outputs": [
    {
     "name": "stdout",
     "output_type": "stream",
     "text": [
      "[시리즈 sr 출력]\n",
      "A형     34.2\n",
      "B형     27.1\n",
      "O형     26.7\n",
      "AB형    11.5\n",
      "dtype: float64\n",
      "[시리즈 sr에서 인덱싱과 슬라이싱하여 출력(숫자인덱스 사용)]\n",
      "34.2\n",
      "11.5\n",
      "27.1\n",
      "B형     27.1\n",
      "O형     26.7\n",
      "AB형    11.5\n",
      "dtype: float64\n",
      "[시리즈 sr에서 인덱싱과 슬라이싱하여 출력(이름인덱스 사용)]\n",
      "34.2\n",
      "11.5\n",
      "27.1\n",
      "B형     27.1\n",
      "O형     26.7\n",
      "AB형    11.5\n",
      "dtype: float64\n",
      "[시리즈 sr의 크기 출력]\n",
      "4\n",
      "[시리즈 sr의 인덱스 출력]\n",
      "Index(['A형', 'B형', 'O형', 'AB형'], dtype='object')\n",
      "[시리즈 sr의 데이터 값 출력]\n",
      "[34.2 27.1 26.7 11.5]\n"
     ]
    }
   ],
   "source": [
    "# (5) 다음에 제시된 소스로 Series를 생성하고 제시된 결과 화면과 동일하게 출력하도록 구현한다.\n",
    "blood = [\"A형\", \"B형\", \"O형\", \"AB형\"]\n",
    "st = [34.2, 27.1, 26.7, 11.5]\n",
    "sr = pd.Series(st, index=blood)\n",
    "print(f\"[시리즈 sr 출력]\\n\"\n",
    "      f\"{sr}\\n\"\n",
    "      f\"[시리즈 sr에서 인덱싱과 슬라이싱하여 출력(숫자인덱스 사용)]\\n\"\n",
    "      f\"{sr[0]}\\n\"\n",
    "      f\"{sr[-1]}\\n\"\n",
    "      f\"{sr[1]}\\n\"\n",
    "      f\"{sr[1:4]}\\n\"\n",
    "      f\"[시리즈 sr에서 인덱싱과 슬라이싱하여 출력(이름인덱스 사용)]\\n\"\n",
    "      f\"{sr['A형']}\\n\"\n",
    "      f\"{sr['AB형']}\\n\"\n",
    "      f\"{sr['B형']}\\n\"\n",
    "      f\"{sr['B형':'AB형']}\\n\"\n",
    "      f\"[시리즈 sr의 크기 출력]\\n\"\n",
    "      f\"{len(sr)}\\n\"\n",
    "      f\"[시리즈 sr의 인덱스 출력]\\n\"\n",
    "      f\"{sr.index}\\n\"\n",
    "      f\"[시리즈 sr의 데이터 값 출력]\\n\"\n",
    "      f\"{sr.values}\")\n"
   ]
  },
  {
   "cell_type": "code",
   "execution_count": 7,
   "id": "b782876a-5637-4c85-a765-cdccb15aeff2",
   "metadata": {},
   "outputs": [
    {
     "name": "stdout",
     "output_type": "stream",
     "text": [
      "타입 : <class 'pandas.core.frame.DataFrame'>\n",
      "  name  kor  eng  mat\n",
      "0   둘리   90   99   90\n",
      "1   또치   80   98   70\n",
      "2  도우너   70   97   70\n",
      "3  희동이   70   46   60\n"
     ]
    }
   ],
   "source": [
    "# (6) 다음의 결과내용을 참조하여 DataFrame을 생성하고 동일하게 출력한다.\n",
    "df_data = {\"name\": [\"둘리\", \"또치\", \"도우너\", \"희동이\"],\n",
    "           \"kor\": [90, 80, 70, 70],\n",
    "           \"eng\": [99, 98, 97, 46],\n",
    "           \"mat\": [90, 70, 70, 60]}\n",
    "df = pd.DataFrame(df_data)\n",
    "print(f\"타입 : {type(df)}\\n\"\n",
    "      f\"{df}\")"
   ]
  },
  {
   "cell_type": "code",
   "execution_count": 8,
   "id": "dd90f855-0038-44b9-934e-d28aad1e8de9",
   "metadata": {},
   "outputs": [
    {
     "name": "stdout",
     "output_type": "stream",
     "text": [
      "타입 : <class 'pandas.core.frame.DataFrame'>\n",
      "    name  kor  eng  mat\n",
      "학생1   둘리   90   99   90\n",
      "학생2   또치   80   98   70\n",
      "학생3  도우너   70   97   70\n",
      "학생4  희동이   70   46   60\n"
     ]
    }
   ],
   "source": [
    "# (7) 다음의 결과내용을 참조하여 DataFrame을 생성하고 동일하게 출력한다.\n",
    "df_data = {\"name\": [\"둘리\", \"또치\", \"도우너\", \"희동이\"],\n",
    "           \"kor\": [90, 80, 70, 70],\n",
    "           \"eng\": [99, 98, 97, 46],\n",
    "           \"mat\": [90, 70, 70, 60]}\n",
    "df = pd.DataFrame(df_data, index = [\"학생1\", \"학생2\", \"학생3\", \"학생4\"])\n",
    "print(f\"타입 : {type(df)}\\n\"\n",
    "      f\"{df}\")"
   ]
  },
  {
   "cell_type": "code",
   "execution_count": 9,
   "id": "477972a9-2cea-4c5f-96bb-c6212f3b0c04",
   "metadata": {},
   "outputs": [
    {
     "name": "stdout",
     "output_type": "stream",
     "text": [
      "    dooly  doochi  dounar  heedong\n",
      "st1    둘리      90      99       90\n",
      "st2    또치      80      98       70\n",
      "st3   도우너      70      97       70\n",
      "st4   희동이      70      46       60\n"
     ]
    }
   ],
   "source": [
    "# (8) 7번 문제에서 생성한 DataFrame에서 인덱스와 컬럼명을 다음과 같이 변경하여 출력한다.\n",
    "df.rename(columns = {\"name\": \"dooly\", \n",
    "                     \"kor\": \"doochi\", \n",
    "                     \"eng\": \"dounar\",\n",
    "                     \"mat\": \"heedong\"}, inplace=True)\n",
    "df.rename(index = {\"학생1\": \"st1\",\n",
    "                   \"학생2\": \"st2\",\n",
    "                   \"학생3\": \"st3\",\n",
    "                   \"학생4\": \"st4\"}, inplace=True)\n",
    "print(df)"
   ]
  },
  {
   "cell_type": "code",
   "execution_count": 14,
   "id": "f9a87a08-ddb5-4a2a-8c93-61e3e53ad784",
   "metadata": {},
   "outputs": [
    {
     "name": "stdout",
     "output_type": "stream",
     "text": [
      "  name  kor  eng  mat\n",
      "0  듀크1   90   99   90\n",
      "1  듀크2   80   98   70\n",
      "2  듀크3   70   97   70\n",
      "3  듀크4   70   46   60\n",
      "4  듀크5   60   77   88\n",
      "  name  kor  eng  mat\n",
      "2  듀크3   70   97   70\n",
      "3  듀크4   70   46   60\n",
      "4  듀크5   60   77   88\n",
      "5  듀크6   70   56   99\n",
      "6  듀크7   90   90   90\n",
      "Index(['name', 'kor', 'eng', 'mat'], dtype='object')\n",
      "0    듀크1\n",
      "1    듀크2\n",
      "2    듀크3\n",
      "3    듀크4\n",
      "4    듀크5\n",
      "5    듀크6\n",
      "6    듀크7\n",
      "Name: name, dtype: object\n",
      "0    99\n",
      "1    98\n",
      "2    97\n",
      "3    46\n",
      "4    77\n",
      "5    56\n",
      "6    90\n",
      "Name: eng, dtype: int64\n",
      "   kor  mat\n",
      "0   90   90\n",
      "1   80   70\n",
      "2   70   70\n",
      "3   70   60\n",
      "4   60   88\n",
      "5   70   99\n",
      "6   90   90\n",
      "---------- iloc 함수 사용 ----------\n",
      "name    듀크4\n",
      "kor      70\n",
      "eng      46\n",
      "mat      60\n",
      "Name: 3, dtype: object\n",
      "듀크1\n",
      "46\n",
      "2    97\n",
      "3    46\n",
      "Name: eng, dtype: int64\n",
      "   eng  mat\n",
      "2   97   70\n",
      "3   46   60\n",
      "---------- loc 함수 사용 ----------\n",
      "name    듀크4\n",
      "kor      70\n",
      "eng      46\n",
      "mat      60\n",
      "Name: 3, dtype: object\n",
      "듀크1\n",
      "46\n",
      "2    97\n",
      "3    46\n",
      "Name: eng, dtype: int64\n",
      "   eng  mat\n",
      "2   97   70\n",
      "3   46   60\n"
     ]
    }
   ],
   "source": [
    "# (9) 다음에 제시된 내용으로 DataFrame 을 생성하고 서브 문제에서 제시된 기능을 구현한다.\n",
    "data = {'name':['듀크1', '듀크2', '듀크3', '듀크4', '듀크5', \n",
    "                '듀크6', '듀크7'],\n",
    "        'kor':[90, 80, 70, 70, 60, 70, 90],\n",
    "        'eng':[99, 98, 97, 46, 77, 56, 90],\n",
    "        'mat':[90, 70, 70, 60, 88, 99, 90],\n",
    "}\n",
    "df = pd.DataFrame(data)\n",
    "\n",
    "# (9-1) 앞에서 다섯 행만 출력한다.\n",
    "print(df[0:5])\n",
    "\n",
    "# (9-2) 뒤에서 다섯 행만 출력한다.\n",
    "print(df[2:])\n",
    "\n",
    "# (9-3) 컬럼명들을 출력한다.\n",
    "print(df.columns)\n",
    "\n",
    "# (9-4) name 컬럼만 출력한다.(추출시 [] 사용)\n",
    "print(df[\"name\"])\n",
    "\n",
    "# (9-5) eng 컬럼만 출력한다.(추출시 . 사용)\n",
    "print(df.eng)\n",
    "\n",
    "# (9-6) kor과 mat 컬럼만 출력한다.\n",
    "print(df[[\"kor\", \"mat\"]])\n",
    "\n",
    "# (9-7) iloc 인덱서를 사용하여 네 번째 행을 출력한다.\n",
    "print(\"---------- iloc 함수 사용 ----------\")\n",
    "print(df.iloc[3])\n",
    "\n",
    "# (9-8) iloc 인덱서를 사용하여 첫 번째 행, 첫 번째 열을 출력한다.\n",
    "print(df.iloc[0, 0])\n",
    "\n",
    "# (9-9) iloc 인덱서를 사용하여 네 번째 행, 세 번째 열을 출력한다.\n",
    "print(df.iloc[3, 2])\n",
    "\n",
    "# (9-10) iloc 인덱서를 사용하여 세 번째와 네 번째 행의 세 번째 열을 출력한다.\n",
    "print(df.iloc[2:4, 2])\n",
    "\n",
    "# (9-11) iloc 인덱서를 사용하여 세 번째와 네 번째 행의 세 번째와 네 번째열을 출력한다.\n",
    "print(df.iloc[2:4, 2:4])\n",
    "\n",
    "# (9-12) loc 인덱서를 사용하여 네 번째 행을 출력한다.\n",
    "print(\"---------- loc 함수 사용 ----------\")\n",
    "print(df.loc[3])\n",
    "\n",
    "# (9-13) loc 인덱서를 사용하여 첫 번째 행, 첫 번째 열을 출력한다.\n",
    "print(df.loc[0, \"name\"])\n",
    "\n",
    "# (9-14) loc 인덱서를 사용하여 네 번째 행, 세 번째 열을 출력한다.\n",
    "print(df.loc[3, \"eng\"])\n",
    "\n",
    "# (9-15) loc 인덱서를 사용하여 세 번째와 네 번째 행의 세 번째 열을 출력한다.\n",
    "print(df.loc[2:3, \"eng\"])\n",
    "\n",
    "# (9-16) loc 인덱서를 사용하여 세 번째와 네 번째 행의 세 번째와 네 번째열을 출력한다.\n",
    "print(df.loc[2:3, \"eng\":])"
   ]
  },
  {
   "cell_type": "code",
   "execution_count": 16,
   "id": "a6d9d344-4bb4-46dc-98ad-5a1744d1823e",
   "metadata": {},
   "outputs": [
    {
     "name": "stdout",
     "output_type": "stream",
     "text": [
      "      kor  eng  mat\n",
      "name               \n",
      "듀크1    90   99   90\n",
      "듀크2    80   98   70\n",
      "듀크3    70   97   70\n",
      "듀크4    70   46   60\n",
      "듀크5    60   77   88\n",
      "듀크6    70   56   99\n",
      "듀크7    90   90   90\n"
     ]
    }
   ],
   "source": [
    "# (10) 9번 문제에서 사용한 df 라는 DataFrame의 숫자 index를 다음과 같이 name 컬럼으로 변경하고 df 를 출력한다.\n",
    "df.set_index(\"name\", inplace = True)\n",
    "print(df)"
   ]
  },
  {
   "cell_type": "code",
   "execution_count": null,
   "id": "17ff8a0b-f4eb-4d07-80e3-d74cd000d303",
   "metadata": {},
   "outputs": [],
   "source": []
  },
  {
   "cell_type": "code",
   "execution_count": null,
   "id": "eb1ebeda-cc0f-447f-a259-7aa8600d1b67",
   "metadata": {},
   "outputs": [],
   "source": []
  }
 ],
 "metadata": {
  "kernelspec": {
   "display_name": "pydatavenv",
   "language": "python",
   "name": "pydatavenv"
  },
  "language_info": {
   "codemirror_mode": {
    "name": "ipython",
    "version": 3
   },
   "file_extension": ".py",
   "mimetype": "text/x-python",
   "name": "python",
   "nbconvert_exporter": "python",
   "pygments_lexer": "ipython3",
   "version": "3.9.12"
  }
 },
 "nbformat": 4,
 "nbformat_minor": 5
}
