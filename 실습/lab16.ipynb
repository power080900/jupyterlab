{
 "cells": [
  {
   "cell_type": "code",
   "execution_count": 125,
   "id": "60178ae5-d81e-441a-b758-de1bda9a44cd",
   "metadata": {},
   "outputs": [
    {
     "data": {
      "text/html": [
       "<div>\n",
       "<style scoped>\n",
       "    .dataframe tbody tr th:only-of-type {\n",
       "        vertical-align: middle;\n",
       "    }\n",
       "\n",
       "    .dataframe tbody tr th {\n",
       "        vertical-align: top;\n",
       "    }\n",
       "\n",
       "    .dataframe thead th {\n",
       "        text-align: right;\n",
       "    }\n",
       "</style>\n",
       "<table border=\"1\" class=\"dataframe\">\n",
       "  <thead>\n",
       "    <tr style=\"text-align: right;\">\n",
       "      <th></th>\n",
       "      <th>sepal_length</th>\n",
       "      <th>sepal_width</th>\n",
       "      <th>petal_length</th>\n",
       "      <th>petal_width</th>\n",
       "    </tr>\n",
       "  </thead>\n",
       "  <tbody>\n",
       "    <tr>\n",
       "      <th>0</th>\n",
       "      <td>NaN</td>\n",
       "      <td>3.5</td>\n",
       "      <td>1.4</td>\n",
       "      <td>0.2</td>\n",
       "    </tr>\n",
       "    <tr>\n",
       "      <th>1</th>\n",
       "      <td>4.9</td>\n",
       "      <td>3.0</td>\n",
       "      <td>1.4</td>\n",
       "      <td>0.2</td>\n",
       "    </tr>\n",
       "    <tr>\n",
       "      <th>2</th>\n",
       "      <td>4.7</td>\n",
       "      <td>NaN</td>\n",
       "      <td>1.3</td>\n",
       "      <td>0.2</td>\n",
       "    </tr>\n",
       "    <tr>\n",
       "      <th>3</th>\n",
       "      <td>4.6</td>\n",
       "      <td>3.1</td>\n",
       "      <td>1.5</td>\n",
       "      <td>NaN</td>\n",
       "    </tr>\n",
       "    <tr>\n",
       "      <th>4</th>\n",
       "      <td>5.0</td>\n",
       "      <td>3.6</td>\n",
       "      <td>1.4</td>\n",
       "      <td>0.2</td>\n",
       "    </tr>\n",
       "    <tr>\n",
       "      <th>5</th>\n",
       "      <td>5.4</td>\n",
       "      <td>NaN</td>\n",
       "      <td>1.7</td>\n",
       "      <td>0.4</td>\n",
       "    </tr>\n",
       "    <tr>\n",
       "      <th>6</th>\n",
       "      <td>4.6</td>\n",
       "      <td>NaN</td>\n",
       "      <td>1.4</td>\n",
       "      <td>0.3</td>\n",
       "    </tr>\n",
       "    <tr>\n",
       "      <th>7</th>\n",
       "      <td>NaN</td>\n",
       "      <td>NaN</td>\n",
       "      <td>1.5</td>\n",
       "      <td>NaN</td>\n",
       "    </tr>\n",
       "    <tr>\n",
       "      <th>8</th>\n",
       "      <td>4.4</td>\n",
       "      <td>2.9</td>\n",
       "      <td>NaN</td>\n",
       "      <td>0.2</td>\n",
       "    </tr>\n",
       "    <tr>\n",
       "      <th>9</th>\n",
       "      <td>4.9</td>\n",
       "      <td>3.1</td>\n",
       "      <td>1.5</td>\n",
       "      <td>0.1</td>\n",
       "    </tr>\n",
       "  </tbody>\n",
       "</table>\n",
       "</div>"
      ],
      "text/plain": [
       "   sepal_length  sepal_width  petal_length  petal_width\n",
       "0           NaN          3.5           1.4          0.2\n",
       "1           4.9          3.0           1.4          0.2\n",
       "2           4.7          NaN           1.3          0.2\n",
       "3           4.6          3.1           1.5          NaN\n",
       "4           5.0          3.6           1.4          0.2\n",
       "5           5.4          NaN           1.7          0.4\n",
       "6           4.6          NaN           1.4          0.3\n",
       "7           NaN          NaN           1.5          NaN\n",
       "8           4.4          2.9           NaN          0.2\n",
       "9           4.9          3.1           1.5          0.1"
      ]
     },
     "execution_count": 125,
     "metadata": {},
     "output_type": "execute_result"
    }
   ],
   "source": [
    "import pandas as pd\n",
    "import seaborn as sns\n",
    "import numpy as np\n",
    "import random\n",
    "\n",
    "iris = sns.load_dataset(\"iris\")\n",
    "iris_x = iris.loc[:,['sepal_length', 'sepal_width',\n",
    "            'petal_length', 'petal_width']]\n",
    "random.seed(1)\n",
    "for col in range(4):\n",
    "    iris_x.iloc[[random.sample(range(len(iris)), 20)], col] = float('nan')\n",
    "iris_x.head(10)"
   ]
  },
  {
   "cell_type": "code",
   "execution_count": 112,
   "id": "7c72b2b3-8ec6-4913-b084-c133a2de33cb",
   "metadata": {},
   "outputs": [
    {
     "name": "stdout",
     "output_type": "stream",
     "text": [
      "1.\n",
      "   sepal_length  sepal_width  petal_length  petal_width\n",
      "1           4.9          3.0           1.4          0.2\n",
      "4           5.0          3.6           1.4          0.2\n",
      "9           4.9          3.1           1.5          0.1\n"
     ]
    }
   ],
   "source": [
    "print(\"1.\")\n",
    "print(iris_x.dropna().head(3))"
   ]
  },
  {
   "cell_type": "code",
   "execution_count": 113,
   "id": "cdb125b6-ac5a-4292-8021-c5ba62a4e5cb",
   "metadata": {},
   "outputs": [
    {
     "name": "stdout",
     "output_type": "stream",
     "text": [
      "2.\n",
      "    sepal_length  sepal_width  petal_length  petal_width\n",
      "0            NaN          3.5           1.4          0.2\n",
      "1            4.9          3.0           1.4          0.2\n",
      "2            4.7          NaN           1.3          0.2\n",
      "3            4.6          3.1           1.5          NaN\n",
      "4            5.0          3.6           1.4          0.2\n",
      "5            5.4          NaN           1.7          0.4\n",
      "6            4.6          NaN           1.4          0.3\n",
      "8            4.4          2.9           NaN          0.2\n",
      "9            4.9          3.1           1.5          0.1\n",
      "10           5.4          3.7           1.5          0.2\n"
     ]
    }
   ],
   "source": [
    "print(\"2.\")\n",
    "print(iris_x.dropna(subset=['sepal_length', 'sepal_width'], how='all',axis=0).head(10))"
   ]
  },
  {
   "cell_type": "code",
   "execution_count": 114,
   "id": "adf5cfea-b9a2-42e9-8e9f-067f9f7f1561",
   "metadata": {},
   "outputs": [
    {
     "name": "stdout",
     "output_type": "stream",
     "text": [
      "3.\n",
      "    sepal_length  sepal_width  petal_length  petal_width\n",
      "1            4.9          3.0           1.4          0.2\n",
      "3            4.6          3.1           1.5          NaN\n",
      "4            5.0          3.6           1.4          0.2\n",
      "8            4.4          2.9           NaN          0.2\n",
      "9            4.9          3.1           1.5          0.1\n",
      "10           5.4          3.7           1.5          0.2\n",
      "11           4.8          3.4           1.6          NaN\n",
      "12           4.8          3.0           1.4          0.1\n",
      "13           4.3          3.0           1.1          0.1\n",
      "14           5.8          4.0           1.2          0.2\n"
     ]
    }
   ],
   "source": [
    "print(\"3.\")\n",
    "print(iris_x.dropna(subset=['sepal_length', 'sepal_width',], how='any',axis=0).head(10))"
   ]
  },
  {
   "cell_type": "code",
   "execution_count": 121,
   "id": "38914642-4c72-4d2e-8437-47001c89bb6e",
   "metadata": {},
   "outputs": [
    {
     "name": "stdout",
     "output_type": "stream",
     "text": [
      "4.\n",
      "   sepal_length  sepal_width  petal_length  petal_width\n",
      "0           0.0          3.5           1.4          0.2\n",
      "1           4.9          3.0           1.4          0.2\n",
      "2           4.7          0.0           1.3          0.2\n",
      "3           4.6          3.1           1.5          0.0\n",
      "4           5.0          3.6           1.4          0.2\n",
      "5           5.4          0.0           1.7          0.4\n",
      "6           4.6          0.0           1.4          0.3\n",
      "7           0.0          0.0           1.5          0.0\n",
      "8           4.4          2.9           0.0          0.2\n",
      "9           4.9          3.1           1.5          0.1\n"
     ]
    }
   ],
   "source": [
    "print(\"4.\")\n",
    "iris_4 = iris_x\n",
    "iris_4.fillna(0.0, inplace=True)\n",
    "print(iris_4.head(10))"
   ]
  },
  {
   "cell_type": "code",
   "execution_count": 123,
   "id": "3de953c7-1375-4188-8725-bbafe2e438e7",
   "metadata": {},
   "outputs": [
    {
     "name": "stdout",
     "output_type": "stream",
     "text": [
      "5.\n",
      "   sepal_length  sepal_width  petal_length  petal_width\n",
      "0           6.0          3.5           1.4          0.2\n",
      "1           4.9          3.0           1.4          0.2\n",
      "2           4.7          3.0           1.3          0.2\n",
      "3           4.6          3.1           1.5          1.0\n",
      "4           5.0          3.6           1.4          0.2\n",
      "5           5.4          3.0           1.7          0.4\n",
      "6           4.6          3.0           1.4          0.3\n",
      "7           6.0          3.0           1.5          1.0\n",
      "8           4.4          2.9           4.0          0.2\n",
      "9           4.9          3.1           1.5          0.1\n"
     ]
    }
   ],
   "source": [
    "print(\"5.\")\n",
    "iris_x.fillna(round(iris_x.mean()), inplace=True)\n",
    "print(iris_x.head(10))"
   ]
  },
  {
   "cell_type": "code",
   "execution_count": 70,
   "id": "fb1d41ba-aeed-4f7a-8251-9a84c494c659",
   "metadata": {},
   "outputs": [
    {
     "name": "stdout",
     "output_type": "stream",
     "text": [
      "6.\n",
      "   sepal_length  sepal_width  petal_length  petal_width\n",
      "0          10.0          3.5           1.4          0.2\n",
      "1           4.9          3.0           1.4          0.2\n",
      "2           4.7         10.0           1.3          0.2\n",
      "3           4.6          3.1           1.5         10.0\n",
      "4           5.0          3.6           1.4          0.2\n",
      "5           5.4         10.0           1.7          0.4\n",
      "6           4.6         10.0           1.4          0.3\n",
      "7          10.0         10.0           1.5         10.0\n",
      "8           4.4          2.9          10.0          0.2\n",
      "9           4.9          3.1           1.5          0.1\n"
     ]
    }
   ],
   "source": [
    "print(\"6.\")\n",
    "iris_6 = iris_x\n",
    "iris_6.fillna(10, inplace=True)\n",
    "print(iris_6.head(10))"
   ]
  },
  {
   "cell_type": "code",
   "execution_count": 126,
   "id": "a0e04797-ee48-46d3-b195-a03b33121389",
   "metadata": {},
   "outputs": [
    {
     "name": "stdout",
     "output_type": "stream",
     "text": [
      "7.\n",
      "   sepal_length  sepal_width  petal_length  petal_width\n",
      "0           NaN          3.5           1.4          0.2\n",
      "1           4.9          3.0           1.4          0.2\n",
      "2           4.7          3.0           1.3          0.2\n",
      "3           4.6          3.1           1.5          0.2\n",
      "4           5.0          3.6           1.4          0.2\n",
      "5           5.4          3.6           1.7          0.4\n",
      "6           4.6          3.6           1.4          0.3\n",
      "7           4.6          3.6           1.5          0.3\n",
      "8           4.4          2.9           1.5          0.2\n",
      "9           4.9          3.1           1.5          0.1\n"
     ]
    }
   ],
   "source": [
    "print(\"7.\")\n",
    "iris_7 = iris_x\n",
    "iris_7.fillna(method='ffill', inplace=True)\n",
    "print(iris_7.head(10))"
   ]
  },
  {
   "cell_type": "code",
   "execution_count": 102,
   "id": "0097d50f-88f4-4b33-ad68-08b1b9e33e81",
   "metadata": {},
   "outputs": [
    {
     "name": "stdout",
     "output_type": "stream",
     "text": [
      "2-1.\n",
      "              0     1\n",
      "0  201612120944  p001\n",
      "1  201612120944  p003\n",
      "2  201612120944  p003\n",
      "3  201612120945  p008\n",
      "4  201612121052  p008\n",
      "<class 'pandas.core.frame.DataFrame'>\n",
      "RangeIndex: 746 entries, 0 to 745\n",
      "Data columns (total 2 columns):\n",
      " #   Column  Non-Null Count  Dtype \n",
      "---  ------  --------------  ----- \n",
      " 0   0       746 non-null    object\n",
      " 1   1       746 non-null    object\n",
      "dtypes: object(2)\n",
      "memory usage: 11.8+ KB\n",
      "None\n"
     ]
    }
   ],
   "source": [
    "df = pd.read_csv('./data/product_click.log',header=None,sep=\" \", dtype=\"object\")\n",
    "print(\"2-1.\")\n",
    "print(df.head(5))\n",
    "print(df.info())"
   ]
  },
  {
   "cell_type": "code",
   "execution_count": 103,
   "id": "4c4b2fed-ab87-488a-90f6-31d825447d94",
   "metadata": {},
   "outputs": [
    {
     "name": "stdout",
     "output_type": "stream",
     "text": [
      "2-2.\n",
      "   oldclicktime clickpid\n",
      "0  201612120944     p001\n",
      "1  201612120944     p003\n",
      "2  201612120944     p003\n",
      "3  201612120945     p008\n",
      "4  201612121052     p008\n"
     ]
    }
   ],
   "source": [
    "print(\"2-2.\")\n",
    "df.columns = ['oldclicktime','clickpid']\n",
    "print(df.head())"
   ]
  },
  {
   "cell_type": "code",
   "execution_count": 104,
   "id": "ab8a354f-5694-449c-a5de-59deb3662775",
   "metadata": {},
   "outputs": [
    {
     "name": "stdout",
     "output_type": "stream",
     "text": [
      "2-3.\n",
      "<class 'pandas.core.frame.DataFrame'>\n",
      "RangeIndex: 746 entries, 0 to 745\n",
      "Data columns (total 2 columns):\n",
      " #   Column        Non-Null Count  Dtype \n",
      "---  ------        --------------  ----- \n",
      " 0   oldclicktime  746 non-null    object\n",
      " 1   clickpid      746 non-null    object\n",
      "dtypes: object(2)\n",
      "memory usage: 11.8+ KB\n",
      "None\n"
     ]
    }
   ],
   "source": [
    "print(\"2-3.\")\n",
    "print(df.info())"
   ]
  },
  {
   "cell_type": "code",
   "execution_count": 107,
   "id": "dbe63753-0d12-4d1a-9cb8-4a4627f61972",
   "metadata": {},
   "outputs": [
    {
     "name": "stdout",
     "output_type": "stream",
     "text": [
      "2-5.\n",
      "     p001  p002  p003  p004  p005  p006  p007  p008  p009  p010\n",
      "0       1     0     0     0     0     0     0     0     0     0\n",
      "1       0     0     1     0     0     0     0     0     0     0\n",
      "2       0     0     1     0     0     0     0     0     0     0\n",
      "3       0     0     0     0     0     0     0     1     0     0\n",
      "4       0     0     0     0     0     0     0     1     0     0\n",
      "..    ...   ...   ...   ...   ...   ...   ...   ...   ...   ...\n",
      "741     0     0     0     1     0     0     0     0     0     0\n",
      "742     0     0     0     1     0     0     0     0     0     0\n",
      "743     0     0     0     0     0     0     0     0     1     0\n",
      "744     0     0     0     0     1     0     0     0     0     0\n",
      "745     0     0     0     0     0     0     0     0     1     0\n",
      "\n",
      "[746 rows x 10 columns]\n"
     ]
    }
   ],
   "source": [
    "print(\"2-5.\")\n",
    "pid_dummies = pd.get_dummies(df[\"clickpid\"])\n",
    "print(pid_dummies)"
   ]
  },
  {
   "cell_type": "code",
   "execution_count": null,
   "id": "63933c06-e010-47ec-b24d-a701c6c723f2",
   "metadata": {},
   "outputs": [],
   "source": [
    "\n"
   ]
  }
 ],
 "metadata": {
  "kernelspec": {
   "display_name": "Python 3 (ipykernel)",
   "language": "python",
   "name": "python3"
  },
  "language_info": {
   "codemirror_mode": {
    "name": "ipython",
    "version": 3
   },
   "file_extension": ".py",
   "mimetype": "text/x-python",
   "name": "python",
   "nbconvert_exporter": "python",
   "pygments_lexer": "ipython3",
   "version": "3.9.7"
  }
 },
 "nbformat": 4,
 "nbformat_minor": 5
}
